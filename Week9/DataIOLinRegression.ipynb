{
 "metadata": {
  "name": "DataIOLinRegression"
 },
 "nbformat": 3,
 "nbformat_minor": 0,
 "worksheets": [
  {
   "cells": [
    {
     "cell_type": "code",
     "collapsed": false,
     "input": [
      "DataIn = loadtxt('input.dat')\n",
      "print DataIn.shape\n",
      "print DataIn"
     ],
     "language": "python",
     "metadata": {},
     "outputs": [
      {
       "output_type": "stream",
       "stream": "stdout",
       "text": [
        "(5, 3)\n",
        "[[ 0.   1.1  0.1]\n",
        " [ 2.   1.9  0.2]\n",
        " [ 4.   3.2  0.1]\n",
        " [ 6.   4.   0.3]\n",
        " [ 8.   5.9  0.3]]\n"
       ]
      }
     ],
     "prompt_number": 1
    },
    {
     "cell_type": "code",
     "collapsed": false,
     "input": [
      "print DataIn[:,2]"
     ],
     "language": "python",
     "metadata": {},
     "outputs": [
      {
       "output_type": "stream",
       "stream": "stdout",
       "text": [
        "[ 0.1  0.2  0.1  0.3  0.3]\n"
       ]
      }
     ],
     "prompt_number": 3
    },
    {
     "cell_type": "code",
     "collapsed": false,
     "input": [
      "x, y, yerr = loadtxt('input.dat', unpack=True)\n",
      "print x\n",
      "print y\n",
      "print yerr"
     ],
     "language": "python",
     "metadata": {},
     "outputs": [
      {
       "output_type": "stream",
       "stream": "stdout",
       "text": [
        "[ 0.  2.  4.  6.  8.]\n",
        "[ 1.1  1.9  3.2  4.   5.9]\n",
        "[ 0.1  0.2  0.1  0.3  0.3]\n"
       ]
      }
     ],
     "prompt_number": 4
    },
    {
     "cell_type": "code",
     "collapsed": false,
     "input": [
      "x, y = loadtxt('input.dat', unpack=True, usecols=[0,1])\n",
      "print x\n",
      "print y"
     ],
     "language": "python",
     "metadata": {},
     "outputs": [
      {
       "output_type": "stream",
       "stream": "stdout",
       "text": [
        "[ 0.  2.  4.  6.  8.]\n",
        "[ 1.1  1.9  3.2  4.   5.9]\n"
       ]
      }
     ],
     "prompt_number": 6
    },
    {
     "cell_type": "code",
     "collapsed": false,
     "input": [
      "x, y = loadtxt('input.csv', unpack=True, delimiter=',', usecols=[0,1])\n",
      "print x\n",
      "print y"
     ],
     "language": "python",
     "metadata": {},
     "outputs": [
      {
       "output_type": "stream",
       "stream": "stdout",
       "text": [
        "[ 0.  2.  4.  6.  8.]\n",
        "[ 1.1  1.9  3.2  4.   5.9]\n"
       ]
      }
     ],
     "prompt_number": 1
    },
    {
     "cell_type": "code",
     "collapsed": false,
     "input": [
      "t = array([0,1,2,3,4,5,6,7,8,9])\n",
      "v = array([0.137,0.456,0.591,0.713,0.859,0.926,1.139,1.327,1.512,1.875])\n",
      "print t\n",
      "print v"
     ],
     "language": "python",
     "metadata": {},
     "outputs": [
      {
       "output_type": "stream",
       "stream": "stdout",
       "text": [
        "[0 1 2 3 4 5 6 7 8 9]\n",
        "[ 0.137  0.456  0.591  0.713  0.859  0.926  1.139  1.327  1.512  1.875]\n"
       ]
      }
     ],
     "prompt_number": 7
    },
    {
     "cell_type": "code",
     "collapsed": false,
     "input": [
      "p = lambda v: 0.15 + v/10.0\n",
      "P = p(v)"
     ],
     "language": "python",
     "metadata": {},
     "outputs": [],
     "prompt_number": 8
    },
    {
     "cell_type": "code",
     "collapsed": false,
     "input": [
      "savetxt('output.dat', (t,P))"
     ],
     "language": "python",
     "metadata": {},
     "outputs": [],
     "prompt_number": 10
    },
    {
     "cell_type": "code",
     "collapsed": false,
     "input": [
      "DataOut = column_stack((t,P))\n",
      "savetxt('output.dat',DataOut)"
     ],
     "language": "python",
     "metadata": {},
     "outputs": [],
     "prompt_number": 11
    },
    {
     "cell_type": "code",
     "collapsed": false,
     "input": [
      "savetxt('output.dat',DataOut,fmt=('%3i','%4.3f'))"
     ],
     "language": "python",
     "metadata": {},
     "outputs": [],
     "prompt_number": 12
    },
    {
     "cell_type": "code",
     "collapsed": false,
     "input": [
      "f = open(\"output.dat\",\"w\")\n",
      "f.write(\"#My comment line for this file, followed by a blank line, then the data\\n\\n\")\n",
      "savetxt(f, DataOut, fmt=('%3i','%4.3f'))\n",
      "f.close()"
     ],
     "language": "python",
     "metadata": {},
     "outputs": [],
     "prompt_number": 14
    },
    {
     "cell_type": "code",
     "collapsed": false,
     "input": [
      "t = array([1,2,3,4,5,6,7,8,9,10])\n",
      "P = array([7.75, 7.33,6.89,6.45,5.96,5.55,5.10,4.49,3.93,3.58])\n",
      "UoP = array([0.02,0.03,0.03,0.04,0.05,0.06,0.08,0.11,0.14,0.17])\n",
      "\n",
      "DataOut = column_stack((t,P,UoP))\n",
      "f = open(\"linearData.dat\",\"w\")\n",
      "f.write(\"#list of Time(s) Position(m) and Uncertainty of Position(m).\\n\\n\")\n",
      "savetxt(f, DataOut, fmt=('%3i', '%4.3f', '%4.3f'))\n",
      "f.close()"
     ],
     "language": "python",
     "metadata": {},
     "outputs": [],
     "prompt_number": 14
    },
    {
     "cell_type": "code",
     "collapsed": false,
     "input": [
      "f = open(\"linearData.csv\",\"w\")\n",
      "f.write(\"#list of Time(s) Position(m) and Uncertainty of Position(m).\\n\\n\")\n",
      "savetxt(f, DataOut, fmt=('%3i', '%4.3f', '%4.3f'), delimiter=',')\n",
      "f.close()"
     ],
     "language": "python",
     "metadata": {},
     "outputs": [],
     "prompt_number": 15
    },
    {
     "cell_type": "code",
     "collapsed": false,
     "input": [
      "def LinearLestSquaresFit(x,y):\n",
      "    \"\"\" Take in arrays representing (x,y) values for a set of linearly varying data and \n",
      "    perform a linear least squares regression, Return the resulting slope and intercept\n",
      "    parameter of the best fit line with their uncertainties.\"\"\"\n",
      "    n = len(x)\n",
      "    n = float(n)\n",
      "    X = sum(x) / n\n",
      "    Y = sum(y) / n\n",
      "    X2 = sum(x**2) / n\n",
      "    XY = sum(x*y) / n\n",
      "    slope = (XY - X*Y) / (X2 - X**2)\n",
      "    intercept = (X2*Y - X*XY) / (X2 - X**2)\n",
      "    d = y - (slope*x + intercept)\n",
      "    D2 = sum(d**2)/n\n",
      "    slerr = sqrt((1/(n-2))*(D2/(X2 - X**2)))\n",
      "    interr = sqrt((1/(n-2))*(D2*X2/(X2 - X**2)))\n",
      "    return slope,intercept,slerr,interr\n"
     ],
     "language": "python",
     "metadata": {},
     "outputs": [],
     "prompt_number": 18
    },
    {
     "cell_type": "code",
     "collapsed": false,
     "input": [
      "x, y = loadtxt('linearData.dat', unpack=True, usecols=[0,1])\n",
      "print LinearLestSquaresFit(x,y)"
     ],
     "language": "python",
     "metadata": {},
     "outputs": [
      {
       "output_type": "stream",
       "stream": "stdout",
       "text": [
        "(-0.47145454545454524, 8.2960000000000012, 0.0079948330421529545, 0.049606634453651217)\n"
       ]
      }
     ],
     "prompt_number": 19
    },
    {
     "cell_type": "code",
     "collapsed": false,
     "input": [
      "scatter(x,y,lw=1,label='Data Points')\n",
      "slope, intercept, slerr, interr = LinearLestSquaresFit(x,y)\n",
      "X = arange(0,11,.01)\n",
      "Y = lambda X: slope * X + intercept\n",
      "YPlus = lambda X: (slope + slerr)*X + (intercept + interr)\n",
      "YMinus = lambda X: (slope - slerr)*X + (intercept - interr)\n",
      "plot(X,Y(X),c='r',lw=1,label='y = %.4f x + %.4f'%(slope,intercept))\n",
      "plot(X,YPlus(X),c='g',lw=1,ls = '--',label='Linear Fit + error')\n",
      "plot(X,YMinus(X),c='black',lw=1,ls ='--',label='Linear Fit - error')\n",
      "xlabel('X')\n",
      "ylabel('Y')\n",
      "legend()\n",
      "show()\n",
      "print \"Slope = \" + str(slope) + \" +- \" + str(slerr)\n",
      "print \"Y Intercept = \" + str(intercept) + \" +- \" + str(interr)"
     ],
     "language": "python",
     "metadata": {},
     "outputs": [
      {
       "output_type": "display_data",
       "png": "[encoded data removed]"
      },
      {
       "output_type": "stream",
       "stream": "stdout",
       "text": [
        "Slope = -0.471454545455 +- 0.00799483304215\n",
        "Y Intercept = 8.296 +- 0.0496066344537\n"
       ]
      }
     ],
     "prompt_number": 37
    },
    {
     "cell_type": "code",
     "collapsed": false,
     "input": [
      "def WeightedLinearLeastSquaresFit(x,y,w):\n",
      "    \"\"\"Take in arrays representing (x,y) values for a set of linearly varying data and an array of weights w.\n",
      "    perform a weighted linear least squares regression. Return the resulting slope and intercept\n",
      "    parameters of the best fit line with their uncertainties.\n",
      "    if the weights are all equal to one, the uncertainties on the parameters are calculated using the\n",
      "    non-weighted least squares equations.\"\"\"\n",
      "    wsum = sum(w)\n",
      "    weightless=True\n",
      "    for i in w:\n",
      "        if i!=1:\n",
      "            weightless=False\n",
      "    if weightless:\n",
      "        return LinearLeastSquaresFit(x,y)\n",
      "    \n",
      "    wx = sum(w*x)\n",
      "    wxsq = sum(w*x**2)\n",
      "    wy = sum(w*y)\n",
      "    wxy = sum(w*x*y)\n",
      "    b = (wxsq*wy-wx*wxy)/(wsum*wxsq-wx**2)\n",
      "    m = (wsum*wxy-wx*wy)/(wsum*wxsq-wx**2)\n",
      "    \n",
      "    merror = (wsum/(wsum*wxsq-wx**2))**.5\n",
      "    berror = (wxsq/(wsum*wxsq-wx**2))**.5\n",
      "    return m,b,merror,berror"
     ],
     "language": "python",
     "metadata": {},
     "outputs": [],
     "prompt_number": 1
    },
    {
     "cell_type": "code",
     "collapsed": false,
     "input": [],
     "language": "python",
     "metadata": {},
     "outputs": []
    }
   ],
   "metadata": {}
  }
 ]
}