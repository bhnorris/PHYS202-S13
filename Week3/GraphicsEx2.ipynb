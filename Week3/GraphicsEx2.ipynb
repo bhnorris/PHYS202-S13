{
 "metadata": {
  "name": "GraphicsEx2"
 },
 "nbformat": 3,
 "nbformat_minor": 0,
 "worksheets": [
  {
   "cells": [
    {
     "cell_type": "markdown",
     "metadata": {},
     "source": [
      "Publication Quality Graphics Exercises 2\n",
      "="
     ]
    },
    {
     "cell_type": "markdown",
     "metadata": {},
     "source": [
      "Question 1\n",
      "-"
     ]
    },
    {
     "cell_type": "markdown",
     "metadata": {},
     "source": [
      "(a)\n",
      "-\n",
      "\\begin{equation}\n",
      "\\psi_k(x) = A\\Biggl( \\frac{ik\u2212a \\tanh(ax)}{ik + a} \\Biggr) e ^{+ikx}\n",
      "\\end{equation}"
     ]
    },
    {
     "cell_type": "markdown",
     "metadata": {},
     "source": [
      "(b)\n",
      "-\n",
      "$v_1 = m_2 \\sqrt{ \\frac{2G}{M} \\Bigl( \\frac{1}{r} - \\frac{1}{r_0} \\Bigr)}$"
     ]
    },
    {
     "cell_type": "markdown",
     "metadata": {},
     "source": [
      "(c)\n",
      "-\n",
      "$f( \\theta ) = \\frac{\\hbar}{p} \\sum\\limits_{\\ell=0}^{\\infty} \\bigl( 2\\ell + 1\\bigr) e ^{i\\delta_\\ell} \\sin\\delta_{\\ell} P_{\\ell} \\bigl(\\cos\\theta\\bigr)$"
     ]
    },
    {
     "cell_type": "markdown",
     "metadata": {},
     "source": [
      "(d)\n",
      "-\n",
      "$\\dfrac{d\\sigma}{d\\Omega} = \\dfrac{k\\pi^2(\\pi - \\theta)}{mu_0^2\\theta^2(2\\pi- \\theta)^2\\sin\\theta}$"
     ]
    },
    {
     "cell_type": "markdown",
     "metadata": {},
     "source": [
      "(e)\n",
      "-\n",
      "\\begin{equation}\n",
      "\\langle f \\rangle = {\\dfrac{1}{\\tau}\\int_{0}^{\\tau} f(t)dt}\n",
      "\\end{equation}"
     ]
    },
    {
     "cell_type": "markdown",
     "metadata": {},
     "source": [
      "(f)\n",
      "-\n",
      "$\\Omega_S = \\omega\\dfrac{\\sin\\alpha}{\\sin\\theta} = \\dfrac{L}{\\lambda_1} = \\omega\\dfrac{\\sqrt{\\lambda_3^2 + (\\lambda_1^2 - \\lambda_3^2)\\sin\\alpha}}{\\lambda_1}$"
     ]
    },
    {
     "cell_type": "markdown",
     "metadata": {},
     "source": [
      "Question 2\n",
      "-"
     ]
    },
    {
     "cell_type": "code",
     "collapsed": false,
     "input": [
      "from numpy import *\n",
      "x = arange(-pi, pi, .1)\n",
      "ks = [0.0, .5, 1.0, 2.0]\n",
      "i = 0 + 1j\n",
      "Upot = -1 / cosh(x)\n",
      "for k in ks:\n",
      "    PSI = ((i*k - tanh(x))/(i*k +1))*e **(i*k*x)\n",
      "    PSI2 = PSI * PSI.conjugate()\n",
      "    plot(x, PSI2)\n",
      "plot(x, Upot)"
     ],
     "language": "python",
     "metadata": {},
     "outputs": [
      {
       "output_type": "pyout",
       "prompt_number": 30,
       "text": [
        "[<matplotlib.lines.Line2D at 0x10af8f390>]"
       ]
      },
      {
       "output_type": "display_data",
       "png": "[encoded data removed]"
      }
     ],
     "prompt_number": 30
    },
    {
     "cell_type": "code",
     "collapsed": false,
     "input": [],
     "language": "python",
     "metadata": {},
     "outputs": [],
     "prompt_number": 26
    },
    {
     "cell_type": "code",
     "collapsed": false,
     "input": [],
     "language": "python",
     "metadata": {},
     "outputs": []
    }
   ],
   "metadata": {}
  }
 ]
}