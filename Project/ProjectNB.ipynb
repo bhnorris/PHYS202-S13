{
 "metadata": {
  "name": "ProjectNB"
 },
 "nbformat": 3,
 "nbformat_minor": 0,
 "worksheets": [
  {
   "cells": [
    {
     "cell_type": "markdown",
     "metadata": {},
     "source": [
      "Project Notebook\n",
      "=\n",
      "Cosmic Ray detector toy model\n",
      "-"
     ]
    },
    {
     "cell_type": "code",
     "collapsed": false,
     "input": [
      "import numpy as np"
     ],
     "language": "python",
     "metadata": {},
     "outputs": [],
     "prompt_number": 1
    },
    {
     "cell_type": "code",
     "collapsed": false,
     "input": [
      "f = open('detlocations2.txt', 'r')\n",
      "print f"
     ],
     "language": "python",
     "metadata": {},
     "outputs": [
      {
       "output_type": "stream",
       "stream": "stdout",
       "text": [
        "<open file 'detlocations2.txt', mode 'r' at 0x2707930>\n"
       ]
      }
     ],
     "prompt_number": 2
    },
    {
     "cell_type": "code",
     "collapsed": false,
     "input": [
      "detlocs = np.array([], dtype = double, ndmin=15)"
     ],
     "language": "python",
     "metadata": {},
     "outputs": [],
     "prompt_number": 3
    },
    {
     "cell_type": "code",
     "collapsed": false,
     "input": [
      "f = open('detlocations2.txt', 'r')\n",
      "print f\n",
      "for line in f:\n",
      "    lngth = len(line)\n",
      "    nwline = line[:(lngth-1)]\n",
      "    nwline.split(' ')\n",
      "    #nwline = np.array(nwline,dtype=double)\n",
      "    print nwline\n",
      "    #np.append(detlocs,anwline)\n"
     ],
     "language": "python",
     "metadata": {},
     "outputs": [
      {
       "output_type": "stream",
       "stream": "stdout",
       "text": [
        "<open file 'detlocations2.txt', mode 'r' at 0x2707a50>\n",
        "-2657645.21797652 -4482808.03159621 3665077.93508315\n",
        "-2657375.51612508 -4482911.46652405 3665174.20449309\n",
        "-2657645.21797652 -4482808.03159621 3665077.93508315\n",
        "-2657222.94006044 -4482912.70962322 3665306.79824549\n",
        "-2657230.18655312 -4483052.76228256 3665126.23447323\n",
        "-2657244.20203383 -4482770.20774234 3665445.56922957\n",
        "-2657617.57348615 -4482636.55644744 3665307.89553931\n",
        "-2657654.79688885 -4482699.34162292 3665201.35169372\n",
        "-2657418.94596796 -4483001.5698973 3665035.18510748\n",
        "-2657588.33855682 -4482929.5805372 3665007.56947322\n",
        "-2657751.86063657 -4482682.23038362 3665159.14960047\n",
        "-2657729.45110665 -4482511.67713781 3665373.82713492\n",
        "-2657503.14566797 -4482505.46970685 3665544.35023888\n",
        "-2657434.86212468 -4482746.49198603 3665323.23612249\n",
        "-2657330.13611558 -4482646.63237958 3665516.49978504\n"
       ]
      }
     ],
     "prompt_number": 4
    },
    {
     "cell_type": "code",
     "collapsed": false,
     "input": [
      "detlocs = np.array([-2657645.21797652, -4482808.03159621, 3665077.93508315],[-2657375.51612508, -4482911.46652405, 3665174.20449309], [-2657645.21797652 -4482808.03159621, 3665077.93508315], [-2657222.94006044, -4482912.70962322, 3665306.79824549],[-2657230.18655312, -4483052.76228256, 3665126.23447323],[-2657244.20203383, -4482770.20774234, 3665445.56922957],[-2657617.57348615, -4482636.55644744, 3665307.89553931],[-2657654.79688885, -4482699.34162292, 3665201.35169372],[-2657418.94596796, -4483001.5698973, 3665035.18510748],[-2657588.33855682, -4482929.5805372, 3665007.56947322],[-2657751.86063657, -4482682.23038362, 3665159.14960047],[-2657729.45110665, -4482511.67713781, 3665373.82713492],[-2657503.14566797, -4482505.46970685, 3665544.35023888],[-2657434.86212468, -4482746.49198603, 3665323.23612249],[-2657330.13611558, -4482646.63237958, 3665516.49978504])"
     ],
     "language": "python",
     "metadata": {},
     "outputs": [
      {
       "ename": "ValueError",
       "evalue": "only 2 non-keyword arguments accepted",
       "output_type": "pyerr",
       "traceback": [
        "\u001b[1;31m---------------------------------------------------------------------------\u001b[0m\n\u001b[1;31mValueError\u001b[0m                                Traceback (most recent call last)",
        "\u001b[1;32m<ipython-input-5-e5ccb3ebf5a8>\u001b[0m in \u001b[0;36m<module>\u001b[1;34m()\u001b[0m\n\u001b[1;32m----> 1\u001b[1;33m \u001b[0mdetlocs\u001b[0m \u001b[1;33m=\u001b[0m \u001b[0mnp\u001b[0m\u001b[1;33m.\u001b[0m\u001b[0marray\u001b[0m\u001b[1;33m(\u001b[0m\u001b[1;33m[\u001b[0m\u001b[1;33m-\u001b[0m\u001b[1;36m2657645.21797652\u001b[0m\u001b[1;33m,\u001b[0m \u001b[1;33m-\u001b[0m\u001b[1;36m4482808.03159621\u001b[0m\u001b[1;33m,\u001b[0m \u001b[1;36m3665077.93508315\u001b[0m\u001b[1;33m]\u001b[0m\u001b[1;33m,\u001b[0m\u001b[1;33m[\u001b[0m\u001b[1;33m-\u001b[0m\u001b[1;36m2657375.51612508\u001b[0m\u001b[1;33m,\u001b[0m \u001b[1;33m-\u001b[0m\u001b[1;36m4482911.46652405\u001b[0m\u001b[1;33m,\u001b[0m \u001b[1;36m3665174.20449309\u001b[0m\u001b[1;33m]\u001b[0m\u001b[1;33m,\u001b[0m \u001b[1;33m[\u001b[0m\u001b[1;33m-\u001b[0m\u001b[1;36m2657645.21797652\u001b[0m \u001b[1;33m-\u001b[0m\u001b[1;36m4482808.03159621\u001b[0m\u001b[1;33m,\u001b[0m \u001b[1;36m3665077.93508315\u001b[0m\u001b[1;33m]\u001b[0m\u001b[1;33m,\u001b[0m \u001b[1;33m[\u001b[0m\u001b[1;33m-\u001b[0m\u001b[1;36m2657222.94006044\u001b[0m\u001b[1;33m,\u001b[0m \u001b[1;33m-\u001b[0m\u001b[1;36m4482912.70962322\u001b[0m\u001b[1;33m,\u001b[0m \u001b[1;36m3665306.79824549\u001b[0m\u001b[1;33m]\u001b[0m\u001b[1;33m,\u001b[0m\u001b[1;33m[\u001b[0m\u001b[1;33m-\u001b[0m\u001b[1;36m2657230.18655312\u001b[0m\u001b[1;33m,\u001b[0m \u001b[1;33m-\u001b[0m\u001b[1;36m4483052.76228256\u001b[0m\u001b[1;33m,\u001b[0m \u001b[1;36m3665126.23447323\u001b[0m\u001b[1;33m]\u001b[0m\u001b[1;33m,\u001b[0m\u001b[1;33m[\u001b[0m\u001b[1;33m-\u001b[0m\u001b[1;36m2657244.20203383\u001b[0m\u001b[1;33m,\u001b[0m \u001b[1;33m-\u001b[0m\u001b[1;36m4482770.20774234\u001b[0m\u001b[1;33m,\u001b[0m \u001b[1;36m3665445.56922957\u001b[0m\u001b[1;33m]\u001b[0m\u001b[1;33m,\u001b[0m\u001b[1;33m[\u001b[0m\u001b[1;33m-\u001b[0m\u001b[1;36m2657617.57348615\u001b[0m\u001b[1;33m,\u001b[0m \u001b[1;33m-\u001b[0m\u001b[1;36m4482636.55644744\u001b[0m\u001b[1;33m,\u001b[0m \u001b[1;36m3665307.89553931\u001b[0m\u001b[1;33m]\u001b[0m\u001b[1;33m,\u001b[0m\u001b[1;33m[\u001b[0m\u001b[1;33m-\u001b[0m\u001b[1;36m2657654.79688885\u001b[0m\u001b[1;33m,\u001b[0m \u001b[1;33m-\u001b[0m\u001b[1;36m4482699.34162292\u001b[0m\u001b[1;33m,\u001b[0m \u001b[1;36m3665201.35169372\u001b[0m\u001b[1;33m]\u001b[0m\u001b[1;33m,\u001b[0m\u001b[1;33m[\u001b[0m\u001b[1;33m-\u001b[0m\u001b[1;36m2657418.94596796\u001b[0m\u001b[1;33m,\u001b[0m \u001b[1;33m-\u001b[0m\u001b[1;36m4483001.5698973\u001b[0m\u001b[1;33m,\u001b[0m \u001b[1;36m3665035.18510748\u001b[0m\u001b[1;33m]\u001b[0m\u001b[1;33m,\u001b[0m\u001b[1;33m[\u001b[0m\u001b[1;33m-\u001b[0m\u001b[1;36m2657588.33855682\u001b[0m\u001b[1;33m,\u001b[0m \u001b[1;33m-\u001b[0m\u001b[1;36m4482929.5805372\u001b[0m\u001b[1;33m,\u001b[0m \u001b[1;36m3665007.56947322\u001b[0m\u001b[1;33m]\u001b[0m\u001b[1;33m,\u001b[0m\u001b[1;33m[\u001b[0m\u001b[1;33m-\u001b[0m\u001b[1;36m2657751.86063657\u001b[0m\u001b[1;33m,\u001b[0m \u001b[1;33m-\u001b[0m\u001b[1;36m4482682.23038362\u001b[0m\u001b[1;33m,\u001b[0m \u001b[1;36m3665159.14960047\u001b[0m\u001b[1;33m]\u001b[0m\u001b[1;33m,\u001b[0m\u001b[1;33m[\u001b[0m\u001b[1;33m-\u001b[0m\u001b[1;36m2657729.45110665\u001b[0m\u001b[1;33m,\u001b[0m \u001b[1;33m-\u001b[0m\u001b[1;36m4482511.67713781\u001b[0m\u001b[1;33m,\u001b[0m \u001b[1;36m3665373.82713492\u001b[0m\u001b[1;33m]\u001b[0m\u001b[1;33m,\u001b[0m\u001b[1;33m[\u001b[0m\u001b[1;33m-\u001b[0m\u001b[1;36m2657503.14566797\u001b[0m\u001b[1;33m,\u001b[0m \u001b[1;33m-\u001b[0m\u001b[1;36m4482505.46970685\u001b[0m\u001b[1;33m,\u001b[0m \u001b[1;36m3665544.35023888\u001b[0m\u001b[1;33m]\u001b[0m\u001b[1;33m,\u001b[0m\u001b[1;33m[\u001b[0m\u001b[1;33m-\u001b[0m\u001b[1;36m2657434.86212468\u001b[0m\u001b[1;33m,\u001b[0m \u001b[1;33m-\u001b[0m\u001b[1;36m4482746.49198603\u001b[0m\u001b[1;33m,\u001b[0m \u001b[1;36m3665323.23612249\u001b[0m\u001b[1;33m]\u001b[0m\u001b[1;33m,\u001b[0m\u001b[1;33m[\u001b[0m\u001b[1;33m-\u001b[0m\u001b[1;36m2657330.13611558\u001b[0m\u001b[1;33m,\u001b[0m \u001b[1;33m-\u001b[0m\u001b[1;36m4482646.63237958\u001b[0m\u001b[1;33m,\u001b[0m \u001b[1;36m3665516.49978504\u001b[0m\u001b[1;33m]\u001b[0m\u001b[1;33m)\u001b[0m\u001b[1;33m\u001b[0m\u001b[0m\n\u001b[0m",
        "\u001b[1;31mValueError\u001b[0m: only 2 non-keyword arguments accepted"
       ]
      }
     ],
     "prompt_number": 5
    },
    {
     "cell_type": "code",
     "collapsed": false,
     "input": [
      "detlocs = [[-2657645.21797652, -4482808.03159621, 3665077.93508315],[-2657375.51612508, -4482911.46652405, 3665174.20449309], [-2657645.21797652, -4482808.03159621, 3665077.93508315], [-2657222.94006044, -4482912.70962322, 3665306.79824549],[-2657230.18655312, -4483052.76228256, 3665126.23447323],[-2657244.20203383, -4482770.20774234, 3665445.56922957],[-2657617.57348615, -4482636.55644744, 3665307.89553931],[-2657654.79688885, -4482699.34162292, 3665201.35169372],[-2657418.94596796, -4483001.5698973, 3665035.18510748],[-2657588.33855682, -4482929.5805372, 3665007.56947322],[-2657751.86063657, -4482682.23038362, 3665159.14960047],[-2657729.45110665, -4482511.67713781, 3665373.82713492],[-2657503.14566797, -4482505.46970685, 3665544.35023888],[-2657434.86212468, -4482746.49198603, 3665323.23612249],[-2657330.13611558, -4482646.63237958, 3665516.49978504]]"
     ],
     "language": "python",
     "metadata": {},
     "outputs": [],
     "prompt_number": 6
    },
    {
     "cell_type": "code",
     "collapsed": false,
     "input": [
      "type(detlocs)"
     ],
     "language": "python",
     "metadata": {},
     "outputs": [
      {
       "output_type": "pyout",
       "prompt_number": 7,
       "text": [
        "list"
       ]
      }
     ],
     "prompt_number": 7
    },
    {
     "cell_type": "code",
     "collapsed": false,
     "input": [
      "detlocs = np.array(detlocs)\n",
      "print type(detlocs)\n",
      "print detlocs"
     ],
     "language": "python",
     "metadata": {},
     "outputs": [
      {
       "output_type": "stream",
       "stream": "stdout",
       "text": [
        "<type 'numpy.ndarray'>\n",
        "[[-2657645.21797652 -4482808.03159621  3665077.93508315]\n",
        " [-2657375.51612508 -4482911.46652405  3665174.20449309]\n",
        " [-2657645.21797652 -4482808.03159621  3665077.93508315]\n",
        " [-2657222.94006044 -4482912.70962322  3665306.79824549]\n",
        " [-2657230.18655312 -4483052.76228256  3665126.23447323]\n",
        " [-2657244.20203383 -4482770.20774234  3665445.56922957]\n",
        " [-2657617.57348615 -4482636.55644744  3665307.89553931]\n",
        " [-2657654.79688885 -4482699.34162292  3665201.35169372]\n",
        " [-2657418.94596796 -4483001.5698973   3665035.18510748]\n",
        " [-2657588.33855682 -4482929.5805372   3665007.56947322]\n",
        " [-2657751.86063657 -4482682.23038362  3665159.14960047]\n",
        " [-2657729.45110665 -4482511.67713781  3665373.82713492]\n",
        " [-2657503.14566797 -4482505.46970685  3665544.35023888]\n",
        " [-2657434.86212468 -4482746.49198603  3665323.23612249]\n",
        " [-2657330.13611558 -4482646.63237958  3665516.49978504]]\n"
       ]
      }
     ],
     "prompt_number": 8
    },
    {
     "cell_type": "code",
     "collapsed": false,
     "input": [
      "detlocs1 = np.array(detlocs)\n",
      "print detlocs1, type(detlocs1)\n",
      "print detlocs, type(detlocs)"
     ],
     "language": "python",
     "metadata": {},
     "outputs": [
      {
       "output_type": "stream",
       "stream": "stdout",
       "text": [
        "[[-2657645.21797652 -4482808.03159621  3665077.93508315]\n",
        " [-2657375.51612508 -4482911.46652405  3665174.20449309]\n",
        " [-2657645.21797652 -4482808.03159621  3665077.93508315]\n",
        " [-2657222.94006044 -4482912.70962322  3665306.79824549]\n",
        " [-2657230.18655312 -4483052.76228256  3665126.23447323]\n",
        " [-2657244.20203383 -4482770.20774234  3665445.56922957]\n",
        " [-2657617.57348615 -4482636.55644744  3665307.89553931]\n",
        " [-2657654.79688885 -4482699.34162292  3665201.35169372]\n",
        " [-2657418.94596796 -4483001.5698973   3665035.18510748]\n",
        " [-2657588.33855682 -4482929.5805372   3665007.56947322]\n",
        " [-2657751.86063657 -4482682.23038362  3665159.14960047]\n",
        " [-2657729.45110665 -4482511.67713781  3665373.82713492]\n",
        " [-2657503.14566797 -4482505.46970685  3665544.35023888]\n",
        " [-2657434.86212468 -4482746.49198603  3665323.23612249]\n",
        " [-2657330.13611558 -4482646.63237958  3665516.49978504]] <type 'numpy.ndarray'>\n",
        "[[-2657645.21797652 -4482808.03159621  3665077.93508315]\n",
        " [-2657375.51612508 -4482911.46652405  3665174.20449309]\n",
        " [-2657645.21797652 -4482808.03159621  3665077.93508315]\n",
        " [-2657222.94006044 -4482912.70962322  3665306.79824549]\n",
        " [-2657230.18655312 -4483052.76228256  3665126.23447323]\n",
        " [-2657244.20203383 -4482770.20774234  3665445.56922957]\n",
        " [-2657617.57348615 -4482636.55644744  3665307.89553931]\n",
        " [-2657654.79688885 -4482699.34162292  3665201.35169372]\n",
        " [-2657418.94596796 -4483001.5698973   3665035.18510748]\n",
        " [-2657588.33855682 -4482929.5805372   3665007.56947322]\n",
        " [-2657751.86063657 -4482682.23038362  3665159.14960047]\n",
        " [-2657729.45110665 -4482511.67713781  3665373.82713492]\n",
        " [-2657503.14566797 -4482505.46970685  3665544.35023888]\n",
        " [-2657434.86212468 -4482746.49198603  3665323.23612249]\n",
        " [-2657330.13611558 -4482646.63237958  3665516.49978504]] <type 'numpy.ndarray'>\n"
       ]
      }
     ],
     "prompt_number": 9
    },
    {
     "cell_type": "code",
     "collapsed": false,
     "input": [
      "originx = -2657645.2179765\n",
      "originy = -4482808.03159621\n",
      "originz = 3665077.93508315\n",
      "print originx, originy, originz"
     ],
     "language": "python",
     "metadata": {},
     "outputs": [
      {
       "output_type": "stream",
       "stream": "stdout",
       "text": [
        "-2657645.21798 -4482808.0316 3665077.93508\n"
       ]
      }
     ],
     "prompt_number": 10
    },
    {
     "cell_type": "code",
     "collapsed": false,
     "input": [
      "for i in range(15):\n",
      "    detlocs1[i][0] = (detlocs1[i][0] - originx)\n",
      "    detlocs1[i][1] = (detlocs1[i][1] - originy)\n",
      "    detlocs1[i][2] = (detlocs1[i][2] - originz)"
     ],
     "language": "python",
     "metadata": {},
     "outputs": [],
     "prompt_number": 11
    },
    {
     "cell_type": "code",
     "collapsed": false,
     "input": [
      "print detlocs\n",
      "print detlocs1\n",
      "#both in meters"
     ],
     "language": "python",
     "metadata": {},
     "outputs": [
      {
       "output_type": "stream",
       "stream": "stdout",
       "text": [
        "[[-2657645.21797652 -4482808.03159621  3665077.93508315]\n",
        " [-2657375.51612508 -4482911.46652405  3665174.20449309]\n",
        " [-2657645.21797652 -4482808.03159621  3665077.93508315]\n",
        " [-2657222.94006044 -4482912.70962322  3665306.79824549]\n",
        " [-2657230.18655312 -4483052.76228256  3665126.23447323]\n",
        " [-2657244.20203383 -4482770.20774234  3665445.56922957]\n",
        " [-2657617.57348615 -4482636.55644744  3665307.89553931]\n",
        " [-2657654.79688885 -4482699.34162292  3665201.35169372]\n",
        " [-2657418.94596796 -4483001.5698973   3665035.18510748]\n",
        " [-2657588.33855682 -4482929.5805372   3665007.56947322]\n",
        " [-2657751.86063657 -4482682.23038362  3665159.14960047]\n",
        " [-2657729.45110665 -4482511.67713781  3665373.82713492]\n",
        " [-2657503.14566797 -4482505.46970685  3665544.35023888]\n",
        " [-2657434.86212468 -4482746.49198603  3665323.23612249]\n",
        " [-2657330.13611558 -4482646.63237958  3665516.49978504]]\n",
        "[[ -2.00234354e-08   0.00000000e+00   0.00000000e+00]\n",
        " [  2.69701851e+02  -1.03434928e+02   9.62694099e+01]\n",
        " [ -2.00234354e-08   0.00000000e+00   0.00000000e+00]\n",
        " [  4.22277916e+02  -1.04678027e+02   2.28863162e+02]\n",
        " [  4.15031423e+02  -2.44730686e+02   4.82993901e+01]\n",
        " [  4.01015943e+02   3.78238539e+01   3.67634146e+02]\n",
        " [  2.76444904e+01   1.71475149e+02   2.29960456e+02]\n",
        " [ -9.57891235e+00   1.08689973e+02   1.23416611e+02]\n",
        " [  2.26272009e+02  -1.93538301e+02  -4.27499757e+01]\n",
        " [  5.68794197e+01  -1.21548941e+02  -7.03656099e+01]\n",
        " [ -1.06642660e+02   1.25801213e+02   8.12145173e+01]\n",
        " [ -8.42331302e+01   2.96354458e+02   2.95892052e+02]\n",
        " [  1.42072309e+02   3.02561889e+02   4.66415156e+02]\n",
        " [  2.10355852e+02   6.15396102e+01   2.45301039e+02]\n",
        " [  3.15081861e+02   1.61399217e+02   4.38564702e+02]]\n"
       ]
      }
     ],
     "prompt_number": 12
    },
    {
     "cell_type": "code",
     "collapsed": false,
     "input": [
      "for i in range(15):\n",
      "    for ndx in range(3):\n",
      "        if detlocs1[i][ndx] == detlocs[i][ndx]:\n",
      "            print True\n",
      "        else:\n",
      "            print False\n",
      "            "
     ],
     "language": "python",
     "metadata": {},
     "outputs": [
      {
       "output_type": "stream",
       "stream": "stdout",
       "text": [
        "False\n",
        "False\n",
        "False\n",
        "False\n",
        "False\n",
        "False\n",
        "False\n",
        "False\n",
        "False\n",
        "False\n",
        "False\n",
        "False\n",
        "False\n",
        "False\n",
        "False\n",
        "False\n",
        "False\n",
        "False\n",
        "False\n",
        "False\n",
        "False\n",
        "False\n",
        "False\n",
        "False\n",
        "False\n",
        "False\n",
        "False\n",
        "False\n",
        "False\n",
        "False\n",
        "False\n",
        "False\n",
        "False\n",
        "False\n",
        "False\n",
        "False\n",
        "False\n",
        "False\n",
        "False\n",
        "False\n",
        "False\n",
        "False\n",
        "False\n",
        "False\n",
        "False\n"
       ]
      }
     ],
     "prompt_number": 13
    },
    {
     "cell_type": "code",
     "collapsed": false,
     "input": [
      "import random as rnd"
     ],
     "language": "python",
     "metadata": {},
     "outputs": [],
     "prompt_number": 14
    },
    {
     "cell_type": "code",
     "collapsed": false,
     "input": [
      "rnd.seed(None)"
     ],
     "language": "python",
     "metadata": {},
     "outputs": [],
     "prompt_number": 15
    },
    {
     "cell_type": "code",
     "collapsed": false,
     "input": [
      "print rnd.random()"
     ],
     "language": "python",
     "metadata": {},
     "outputs": [
      {
       "output_type": "stream",
       "stream": "stdout",
       "text": [
        "0.655739644153\n"
       ]
      }
     ],
     "prompt_number": 16
    },
    {
     "cell_type": "code",
     "collapsed": false,
     "input": [
      "atmCircleRadius = 1300.0 / 2.0 #meters\n",
      "atmCircleHeight = 15000.0 #meters\n",
      "atmCircleTheta = 2 * pi #radians\n",
      "N = 10 #simulation sample size (int)\n",
      "atmIncidencePhi = 0 #angle that particles hit atmosphere range from 0 to pi radians\n",
      "atmIncidenceRadius= 0 #where in the circle above the campus  particle hits\n",
      "atmIncidenceTheta = 0 #where in the circle above the campus  particle hits"
     ],
     "language": "python",
     "metadata": {},
     "outputs": [],
     "prompt_number": 17
    },
    {
     "cell_type": "code",
     "collapsed": false,
     "input": [
      "def GetMuonSpeed(energy):\n",
      "    \"\"\"Given energy returns relativistic speed \"\"\"\n",
      "    MMu = .1056 #muon mass in GeV/c2\n",
      "    c = 3e8 #speed of light in m/s\n",
      "    v = np.sqrt(c**2 * (1 - (MMu/energy)**2)) #relativistic velocity\n",
      "    return v"
     ],
     "language": "python",
     "metadata": {},
     "outputs": [],
     "prompt_number": 18
    },
    {
     "cell_type": "code",
     "collapsed": false,
     "input": [
      "def GetRandomParticleIncidence(MaxRadius, MaxAngle):\n",
      "    \"\"\"Given angle in radians given back in (x,y) and degrees \"\"\"\n",
      "    radius = rnd.random() * MaxRadius\n",
      "    angle = rnd.random() * MaxAngle\n",
      "    incidenceAngle = rnd.random() * pi\n",
      "    x = cos(angle) * radius\n",
      "    y = sin(angle) * radius\n",
      "    E = rnd.gauss(4,1.5) #energy in GeV\n",
      "    return np.array([x,y,np.degrees(incidenceAngle),E])\n",
      "\n",
      "rndParticle = GetRandomParticleIncidence(atmCircleRadius, atmCircleTheta)\n",
      "partVel = GetMuonSpeed(rndParticle[3])\n",
      "print rndParticle\n",
      "print partVel, partVel / 3e8"
     ],
     "language": "python",
     "metadata": {},
     "outputs": [
      {
       "output_type": "stream",
       "stream": "stdout",
       "text": [
        "[ 115.09499635   -4.27246618   48.92445088    3.00099852]\n",
        "299814210.129 0.99938070043\n"
       ]
      }
     ],
     "prompt_number": 19
    },
    {
     "cell_type": "code",
     "collapsed": false,
     "input": [
      "def GetSimulationSet(MaxRadius,MaxAngle,SampleSize):\n",
      "    \"\"\"Uses GetRandomParticleIncidence and a given Sample Size \n",
      "        to give back a simulated set\"\"\"\n",
      "    i = 0\n",
      "    if SampleSize > 0:\n",
      "        retArr = np.array(GetRandomParticleIncidence(MaxRadius,MaxAngle))\n",
      "        while i < (SampleSize-1):\n",
      "            retArr =  vstack((retArr, GetRandomParticleIncidence(MaxRadius,MaxAngle)))\n",
      "            i += 1\n",
      "        return retArr\n",
      "    else:\n",
      "        return None"
     ],
     "language": "python",
     "metadata": {},
     "outputs": [],
     "prompt_number": 20
    },
    {
     "cell_type": "code",
     "collapsed": false,
     "input": [
      "GetSimulationSet(atmCircleRadius, atmCircleTheta, N)"
     ],
     "language": "python",
     "metadata": {},
     "outputs": [
      {
       "output_type": "pyout",
       "prompt_number": 21,
       "text": [
        "array([[ 493.33447145,   88.38596503,    9.4527462 ,    4.40736269],\n",
        "       [  58.03485193,  155.73853054,  120.24334202,    3.83417659],\n",
        "       [ 564.54623513, -314.56931384,  173.21158662,    4.221626  ],\n",
        "       [ 167.92674712,   20.39287409,  140.42562777,    4.79445108],\n",
        "       [-139.22851096,  341.81817679,   81.96540372,    4.84766171],\n",
        "       [-237.06441235,  559.9366555 ,  131.76843323,    4.19009988],\n",
        "       [ -82.97583842,  120.64931603,   36.47717137,    4.30927576],\n",
        "       [ -36.1309819 ,  214.23237755,  152.6832482 ,    7.31180939],\n",
        "       [ -19.13081822,  259.035841  ,  140.66102609,    3.48421089],\n",
        "       [ 327.59501564,  559.93267953,   39.80245149,    4.16491448]])"
       ]
      }
     ],
     "prompt_number": 21
    },
    {
     "cell_type": "code",
     "collapsed": false,
     "input": [
      "def GetArrivalTime(speed, distance):\n",
      "    \"\"\"Given speed and distance gives time of arrival\"\"\"\n",
      "    c=3e8\n",
      "    gamm = 1 / np.sqrt(1 - speed**2/c**2)\n",
      "    dt0 = distance / speed\n",
      "    dt = gamm * dt0\n",
      "    return dt"
     ],
     "language": "python",
     "metadata": {},
     "outputs": [],
     "prompt_number": 22
    },
    {
     "cell_type": "code",
     "collapsed": false,
     "input": [
      "def GetToAdelta(times):\n",
      "    k = 100\n",
      "    retArr = np.array(times)\n",
      "    for ToA in times:\n",
      "        if ToA != -1.0:\n",
      "            if ToA < k:\n",
      "                k = ToA\n",
      "    if k != 100:\n",
      "        i = 0\n",
      "        for ToA in times:\n",
      "            if ToA != -1.0:\n",
      "                dti = (rnd.gauss(0,0.05))*(k - ToA)\n",
      "                retArr[i] = retArr[i] + dti\n",
      "            i+=1\n",
      "        return retArr\n",
      "    else:\n",
      "        return retArr"
     ],
     "language": "python",
     "metadata": {},
     "outputs": [],
     "prompt_number": 23
    },
    {
     "cell_type": "code",
     "collapsed": false,
     "input": [
      "def ConeCreation(detectorLocations, simulationSet, atmHeight, degreeOfCone):\n",
      "    \"\"\"Create circular based cone with incident height relative to origin\"\"\"\n",
      "    H = atmHeight\n",
      "    Th = degreeOfCone\n",
      "    retArr = np.array([])\n",
      "    i, j,t,f = 0,0,True,False\n",
      "    for i in range(len(simulationSet)):\n",
      "        VoC = np.array([simulationSet[i][0],simulationSet[i][1]])\n",
      "        #barr = np.array([],dtype=bool)\n",
      "        detArr = np.array([],dtype=double)\n",
      "        ToAArr = np.array([])\n",
      "        for j in range(15):\n",
      "            #print j\n",
      "            H = atmHeight - detectorLocations[j][2]\n",
      "            speed = GetMuonSpeed(simulationSet[i][3])\n",
      "            dist = H / cos(np.radians(Th))\n",
      "            ToA = GetArrivalTime(speed, dist)\n",
      "            ToAArr = np.append(ToAArr, ToA)\n",
      "            r = tan(np.radians(Th)) * H\n",
      "            rsqrd = (detectorLocations[j][0] - VoC[0]) **2 + (detectorLocations[j][1] - VoC[1])**2\n",
      "            if rsqrd > r**2:\n",
      "                #barr = np.append(barr, f)\n",
      "                ToAArr[j] = -1.0\n",
      "                ToAE = np.array([-1.0,-1.0])\n",
      "                detArr = np.append(detArr,ToAE)\n",
      "            else:\n",
      "                #barr = np.append(barr, t)\n",
      "                ToAE = np.array([ToA,simulationSet[i][3]])\n",
      "                detArr = np.append(detArr,ToAE)\n",
      "        ToAArr = GetToAdelta(ToAArr)\n",
      "        ToAi,detAri = 0,0\n",
      "        while detAri < len(detArr):\n",
      "            detArr[detAri] = ToAArr[ToAi]\n",
      "            ToAi += 1\n",
      "            detAri += 2\n",
      "            \n",
      "        if i == 0:\n",
      "            retArr = detArr\n",
      "            #retArr = barr\n",
      "        else:\n",
      "            retArr =  np.vstack((retArr, detArr))\n",
      "            #retArr = np.vstack((retArr,barr))\n",
      "    return retArr"
     ],
     "language": "python",
     "metadata": {},
     "outputs": [],
     "prompt_number": 24
    },
    {
     "cell_type": "code",
     "collapsed": false,
     "input": [
      "#print detlocs1\n",
      "N = 5\n",
      "simSet = GetSimulationSet(atmCircleRadius,atmCircleTheta,N)\n",
      "#print simSet\n",
      "#print atmCircleHeight\n",
      "cone = ConeCreation(detlocs1,simSet,atmCircleHeight, 1)\n",
      "print cone"
     ],
     "language": "python",
     "metadata": {},
     "outputs": [
      {
       "output_type": "stream",
       "stream": "stdout",
       "text": [
        "[[ -1.00000000e+00  -1.00000000e+00  -1.00000000e+00  -1.00000000e+00\n",
        "   -1.00000000e+00  -1.00000000e+00  -1.00000000e+00  -1.00000000e+00\n",
        "   -1.00000000e+00  -1.00000000e+00  -1.00000000e+00  -1.00000000e+00\n",
        "   -1.00000000e+00  -1.00000000e+00  -1.00000000e+00  -1.00000000e+00\n",
        "   -1.00000000e+00  -1.00000000e+00  -1.00000000e+00  -1.00000000e+00\n",
        "   -1.00000000e+00  -1.00000000e+00  -1.00000000e+00  -1.00000000e+00\n",
        "   -1.00000000e+00  -1.00000000e+00  -1.00000000e+00  -1.00000000e+00\n",
        "   -1.00000000e+00  -1.00000000e+00]\n",
        " [  2.06320739e-03   4.35192325e+00  -1.00000000e+00  -1.00000000e+00\n",
        "    2.06083445e-03   4.35192325e+00  -1.00000000e+00  -1.00000000e+00\n",
        "   -1.00000000e+00  -1.00000000e+00  -1.00000000e+00  -1.00000000e+00\n",
        "    2.02978270e-03   4.35192325e+00   2.04464844e-03   4.35192325e+00\n",
        "   -1.00000000e+00  -1.00000000e+00   2.07423829e-03   4.35192325e+00\n",
        "    2.05032569e-03   4.35192325e+00  -1.00000000e+00  -1.00000000e+00\n",
        "   -1.00000000e+00  -1.00000000e+00   2.02777821e-03   4.35192325e+00\n",
        "   -1.00000000e+00  -1.00000000e+00]\n",
        " [ -1.00000000e+00  -1.00000000e+00  -1.00000000e+00  -1.00000000e+00\n",
        "   -1.00000000e+00  -1.00000000e+00  -1.00000000e+00  -1.00000000e+00\n",
        "   -1.00000000e+00  -1.00000000e+00  -1.00000000e+00  -1.00000000e+00\n",
        "   -1.00000000e+00  -1.00000000e+00  -1.00000000e+00  -1.00000000e+00\n",
        "   -1.00000000e+00  -1.00000000e+00  -1.00000000e+00  -1.00000000e+00\n",
        "    1.69531208e-03   3.59789154e+00  -1.00000000e+00  -1.00000000e+00\n",
        "   -1.00000000e+00  -1.00000000e+00  -1.00000000e+00  -1.00000000e+00\n",
        "   -1.00000000e+00  -1.00000000e+00]\n",
        " [  2.73402395e-03   5.77420683e+00  -1.00000000e+00  -1.00000000e+00\n",
        "    2.73958473e-03   5.77420683e+00  -1.00000000e+00  -1.00000000e+00\n",
        "   -1.00000000e+00  -1.00000000e+00  -1.00000000e+00  -1.00000000e+00\n",
        "    2.69676439e-03   5.77420683e+00   2.71185169e-03   5.77420683e+00\n",
        "   -1.00000000e+00  -1.00000000e+00   2.74322250e-03   5.77420683e+00\n",
        "    2.72020042e-03   5.77420683e+00  -1.00000000e+00  -1.00000000e+00\n",
        "    2.64983421e-03   5.77420683e+00   2.69032631e-03   5.77420683e+00\n",
        "    2.65547438e-03   5.77420683e+00]\n",
        " [ -1.00000000e+00  -1.00000000e+00  -1.00000000e+00  -1.00000000e+00\n",
        "   -1.00000000e+00  -1.00000000e+00  -1.00000000e+00  -1.00000000e+00\n",
        "   -1.00000000e+00  -1.00000000e+00  -1.00000000e+00  -1.00000000e+00\n",
        "   -1.00000000e+00  -1.00000000e+00  -1.00000000e+00  -1.00000000e+00\n",
        "   -1.00000000e+00  -1.00000000e+00  -1.00000000e+00  -1.00000000e+00\n",
        "   -1.00000000e+00  -1.00000000e+00  -1.00000000e+00  -1.00000000e+00\n",
        "   -1.00000000e+00  -1.00000000e+00  -1.00000000e+00  -1.00000000e+00\n",
        "   -1.00000000e+00  -1.00000000e+00]]\n"
       ]
      }
     ],
     "prompt_number": 25
    },
    {
     "cell_type": "code",
     "collapsed": false,
     "input": [
      "def sifter(ConeHits):\n",
      "    hitCheck = np.array([],dtype=bool)\n",
      "    h = np.array([])\n",
      "    i,j,k,t,f = 0,0,0,True,False\n",
      "    for i in range(len(ConeHits)):\n",
      "       for j in range(15):\n",
      "            #print ConeHits[i][j]\n",
      "            if ConeHits[i][j] != (-1.0):\n",
      "                k+=1\n",
      "       if k > 2:\n",
      "           hitCheck=np.append(hitCheck,t)\n",
      "       else:\n",
      "           hitCheck=np.append(hitCheck,f)\n",
      "       h = np.append(h,k)\n",
      "       k = 0\n",
      "    #print h\n",
      "    return hitCheck"
     ],
     "language": "python",
     "metadata": {},
     "outputs": [],
     "prompt_number": 26
    },
    {
     "cell_type": "code",
     "collapsed": false,
     "input": [
      "print sifter(cone)"
     ],
     "language": "python",
     "metadata": {},
     "outputs": [
      {
       "output_type": "stream",
       "stream": "stdout",
       "text": [
        "[False  True False  True False]\n"
       ]
      }
     ],
     "prompt_number": 27
    },
    {
     "cell_type": "code",
     "collapsed": false,
     "input": [
      "N = 100\n",
      "simSet = GetSimulationSet(atmCircleRadius,atmCircleTheta,N)\n",
      "cone = ConeCreation(detlocs1,simSet,atmCircleHeight, 1)\n",
      "#print cone\n",
      "print sifter(cone)"
     ],
     "language": "python",
     "metadata": {},
     "outputs": [
      {
       "output_type": "stream",
       "stream": "stdout",
       "text": [
        "[ True False False False False  True  True  True  True False  True False\n",
        "  True False  True  True False  True  True  True  True  True  True False\n",
        " False  True False  True False False  True False  True False False  True\n",
        "  True  True  True False  True False  True  True  True False False  True\n",
        " False  True False  True False  True  True False  True  True  True  True\n",
        "  True False False  True  True False False False False False False False\n",
        "  True  True False False  True  True False False  True  True False  True\n",
        " False False False  True False False False  True  True False  True  True\n",
        "  True  True False False]\n"
       ]
      }
     ],
     "prompt_number": 28
    },
    {
     "cell_type": "code",
     "collapsed": false,
     "input": [
      "def finalConeSet(cone,sift):\n",
      "    retArr = np.array([])\n",
      "    bArr = np.array(sift,dtype=bool)\n",
      "    Si,Ci,t,f = 0,0,True,False\n",
      "    ch = t\n",
      "    while Ci < len(cone):\n",
      "        if (bArr[Si] == t) and (ch==t):\n",
      "            retArr = np.append(retArr,cone[Ci])\n",
      "            ch = f\n",
      "        elif (bArr[Si] ==t) and (ch == f):\n",
      "            retArr =  np.vstack((retArr, cone[Ci])) \n",
      "        Ci += 1\n",
      "        Si += 1\n",
      "    return retArr"
     ],
     "language": "python",
     "metadata": {},
     "outputs": [],
     "prompt_number": 29
    },
    {
     "cell_type": "code",
     "collapsed": false,
     "input": [
      "N = 100\n",
      "simSet = GetSimulationSet(atmCircleRadius,atmCircleTheta,N)\n",
      "cone = ConeCreation(detlocs1,simSet,atmCircleHeight, 1)\n",
      "sift = sifter(cone)\n",
      "print sift\n",
      "finalData = finalConeSet(cone,sift)\n",
      "print finalData"
     ],
     "language": "python",
     "metadata": {},
     "outputs": [
      {
       "output_type": "stream",
       "stream": "stdout",
       "text": [
        "[ True False False  True  True False False  True False  True False  True\n",
        "  True False  True  True  True  True  True  True  True  True  True  True\n",
        "  True  True  True False False  True False False False  True False  True\n",
        "  True  True False  True  True  True False  True False False  True  True\n",
        "  True  True  True  True False False False  True  True  True  True  True\n",
        "  True  True  True False False False False False  True False  True  True\n",
        " False  True  True False  True  True False False  True  True False False\n",
        "  True False False False False False  True  True  True False  True  True\n",
        "  True False False False]\n",
        "[[ -1.00000000e+00  -1.00000000e+00  -1.00000000e+00 ...,  -1.00000000e+00\n",
        "   -1.00000000e+00  -1.00000000e+00]\n",
        " [  5.38500605e-04   1.13267183e+00  -1.00000000e+00 ...,  -1.00000000e+00\n",
        "   -1.00000000e+00  -1.00000000e+00]\n",
        " [  3.10892291e-03   6.55692509e+00  -1.00000000e+00 ...,   6.55692509e+00\n",
        "   -1.00000000e+00  -1.00000000e+00]\n",
        " ..., \n",
        " [ -1.00000000e+00  -1.00000000e+00  -1.00000000e+00 ...,  -1.00000000e+00\n",
        "   -1.00000000e+00  -1.00000000e+00]\n",
        " [  1.92740898e-03   4.07057267e+00  -1.00000000e+00 ...,  -1.00000000e+00\n",
        "   -1.00000000e+00  -1.00000000e+00]\n",
        " [ -1.00000000e+00  -1.00000000e+00  -1.00000000e+00 ...,  -1.00000000e+00\n",
        "   -1.00000000e+00  -1.00000000e+00]]\n"
       ]
      }
     ],
     "prompt_number": 30
    },
    {
     "cell_type": "code",
     "collapsed": false,
     "input": [
      "def datToFile(fileName, data):\n",
      "    f=open(fileName, 'w')\n",
      "    for event in data:\n",
      "        for det in event:\n",
      "            sDat = '%(#)1.3e ' % {\"#\" : det}\n",
      "            f.write(sDat)\n",
      "        f.write('\\n')\n",
      "    f.close()"
     ],
     "language": "python",
     "metadata": {},
     "outputs": [],
     "prompt_number": 31
    },
    {
     "cell_type": "code",
     "collapsed": false,
     "input": [
      "datToFile('./data3.txt',finalData)"
     ],
     "language": "python",
     "metadata": {},
     "outputs": [],
     "prompt_number": 32
    },
    {
     "cell_type": "code",
     "collapsed": false,
     "input": [
      "def datFromFile(fileName, DatOut):\n",
      "    f=open(fileName, 'r')\n",
      "    i = 0\n",
      "    for line in f:\n",
      "        sDat = line\n",
      "        sDat = sDat.split(' ')\n",
      "        sDat = sDat[:-1]\n",
      "        Data = np.array([])\n",
      "        for dat in sDat:\n",
      "            dat = double(dat)\n",
      "            Data = np.append(Data,dat)\n",
      "        if (i == 0):\n",
      "            DatOut = Data\n",
      "        else:\n",
      "            DatOut = np.vstack((DatOut, Data))\n",
      "        i+=1\n",
      "    f.close()\n",
      "    return DatOut\n",
      "        "
     ],
     "language": "python",
     "metadata": {},
     "outputs": [],
     "prompt_number": 33
    },
    {
     "cell_type": "code",
     "collapsed": false,
     "input": [
      "datout = np.array([])\n",
      "datout = datFromFile('./data3.txt',datout)\n",
      "type(datout)\n",
      "np.shape(datout)\n",
      "datout[0]"
     ],
     "language": "python",
     "metadata": {},
     "outputs": [
      {
       "output_type": "pyout",
       "prompt_number": 34,
       "text": [
        "array([ -1.00000000e+00,  -1.00000000e+00,  -1.00000000e+00,\n",
        "        -1.00000000e+00,  -1.00000000e+00,  -1.00000000e+00,\n",
        "        -1.00000000e+00,  -1.00000000e+00,  -1.00000000e+00,\n",
        "        -1.00000000e+00,  -1.00000000e+00,  -1.00000000e+00,\n",
        "         1.27200000e-03,   2.72500000e+00,   1.28100000e-03,\n",
        "         2.72500000e+00,  -1.00000000e+00,  -1.00000000e+00,\n",
        "        -1.00000000e+00,  -1.00000000e+00,   1.28400000e-03,\n",
        "         2.72500000e+00,   1.26600000e-03,   2.72500000e+00,\n",
        "        -1.00000000e+00,  -1.00000000e+00,  -1.00000000e+00,\n",
        "        -1.00000000e+00,  -1.00000000e+00,  -1.00000000e+00])"
       ]
      }
     ],
     "prompt_number": 34
    },
    {
     "cell_type": "code",
     "collapsed": false,
     "input": [
      "def sortToAs(detlocs,ToAs,j):\n",
      "    i = 0\n",
      "    k = 0\n",
      "    detToa = np.array([])\n",
      "    for det in detlocs:\n",
      "        #print det\n",
      "        if (ToAs[j][i] != -1.0):\n",
      "            dlist = np.array([det[0],det[1],det[2],ToAs[j][i]])\n",
      "            print dlist\n",
      "            if (k == 0):\n",
      "                detToa = dlist\n",
      "            else:\n",
      "                detToa = np.vstack((detToa,dlist))\n",
      "            k += 1\n",
      "        i += 2\n",
      "    k = 0\n",
      "    i = 0\n",
      "    x =np.arange(0,len(detToa))\n",
      "    for det in detToa:\n",
      "        while (k < len(detToa)):\n",
      "            if (det[3] >= detToa[k][3]):\n",
      "                x[i] = k\n",
      "            k += 1\n",
      "        i += 1\n",
      "    detToaSort = detToa\n",
      "    for num in x:\n",
      "        detToaSort[num] = detToa[num]\n",
      "    return detToaSort"
     ],
     "language": "python",
     "metadata": {},
     "outputs": [],
     "prompt_number": 39
    },
    {
     "cell_type": "code",
     "collapsed": false,
     "input": [
      "def setUpEquations(detlocs, ToAs,j):\n",
      "    i = 0\n",
      "    k = 0\n",
      "    \"\"\"detToa = np.array([])\n",
      "    for det in detlocs:\n",
      "        #print det\n",
      "        if (ToAs[j][i] != -1.0):\n",
      "            dlist = np.array([det[0],det[1],det[2],ToAs[j][i]])\n",
      "            print dlist\n",
      "            if (k == 0):\n",
      "                detToa = dlist\n",
      "            else:\n",
      "                detToa = np.vstack((detToa,dlist))\n",
      "            k += 1\n",
      "        i += 2\n",
      "    k = 0\"\"\"\n",
      "    detToa = sortToAs(detlocs,ToAs,j)\n",
      "    retArr = np.array([])\n",
      "    c= 3*10**5\n",
      "    m = .1057 \n",
      "    v = (np.sqrt(1 - (m/(4)**2)))*c\n",
      "    x1 = detToa[0][0]\n",
      "    y1 = detToa[0][1]\n",
      "    z1 = detToa[0][2]\n",
      "    t1 = detToa[0][3]\n",
      "    for dtoa in detToa:\n",
      "        xm = dtoa[0]\n",
      "        tm = dtoa[3]\n",
      "        ym = dtoa[1]\n",
      "        zm = dtoa[2]\n",
      "        Am = 2*xm / (v*tm) - (2*x1) / (v*t1)\n",
      "        Bm = 2*ym / (v*tm) - (2*y1) / (v*t1)\n",
      "        Cm = 2*zm / (v*tm) - (2*z1) / (v*t1)\n",
      "        Dm = v*tm - v*t1 -(xm**2 + ym**2 +zm**2)/(v*tm) + (x1**2 + y1**2 +z1**2)/(v*t1)\n",
      "        detEqArr = np.array([Am,Bm,Cm,Dm])\n",
      "        if (k == 0):\n",
      "            retArr = detEqArr\n",
      "        else:\n",
      "            retArr = np.vstack((retArr,detEqArr))\n",
      "        k +=1\n",
      "    return retArr"
     ],
     "language": "python",
     "metadata": {},
     "outputs": [],
     "prompt_number": 40
    },
    {
     "cell_type": "code",
     "collapsed": false,
     "input": [
      "def setUpEquations2(detlocs,ToAs,N):\n",
      "    R = 6378137 # Earth radius in meters\n",
      "    A = []\n",
      "    for m in range(0,len(P)):\n",
      "        x = P[m][0]\n",
      "        y = P[m][1]\n",
      "        z = P[m][2]\n",
      "        Am = -2*x\n",
      "        Bm = -2*y\n",
      "        Cm = -2*z\n",
      "        Dm = R*R + (pow(x,2)+pow(y,2)+pow(z,2)) - pow(dists[m],2)\n",
      "        A += [[Am,Bm,Cm,Dm]]\n",
      "    # Solve using SVD\n",
      "    A = numpy.array(A)\n",
      "    (_,_,v) = numpy.linalg.svd(A)\n",
      "    # Get the minimizer\n",
      "    w = v[3,:]\n",
      "    w /= w[3] # Resulting position in ECEF"
     ],
     "language": "python",
     "metadata": {},
     "outputs": [],
     "prompt_number": 36
    },
    {
     "cell_type": "code",
     "collapsed": false,
     "input": [
      "\n",
      "#for i in range(len(datout)):\n",
      " #   print setUpEquations(detlocs1,datout,i)\n",
      "print setUpEquations(detlocs1,datout,2)\n",
      "EqArr = setUpEquations(detlocs1,datout,2)"
     ],
     "language": "python",
     "metadata": {},
     "outputs": [
      {
       "output_type": "stream",
       "stream": "stdout",
       "text": [
        "[ -2.00234354e-08   0.00000000e+00   0.00000000e+00   3.10900000e-03]\n",
        "[ -2.00234354e-08   0.00000000e+00   0.00000000e+00   3.10500000e-03]\n",
        "[  2.76444904e+01   1.71475149e+02   2.29960456e+02   3.05800000e-03]\n",
        "[ -9.57891235e+00   1.08689973e+02   1.23416611e+02   3.08000000e-03]\n",
        "[  5.68794197e+01  -1.21548941e+02  -7.03656099e+01   3.11800000e-03]\n",
        "[ -1.06642660e+02   1.25801213e+02   8.12145173e+01   3.09100000e-03]\n",
        "[  2.10355852e+02   6.15396102e+01   2.45301039e+02   3.05500000e-03]\n",
        "[[  0.00000000e+00   0.00000000e+00   0.00000000e+00   0.00000000e+00]\n",
        " [ -5.54963326e-14   0.00000000e+00   0.00000000e+00  -1.19602968e+00]\n",
        " [  6.04670994e-02   3.75069489e-01   5.02995048e-01  -1.06077203e+02]\n",
        " [ -2.08024033e-02   2.36040646e-01   2.68022299e-01  -3.81376750e+01]\n",
        " [  1.22018892e-01  -2.60749268e-01  -1.50949742e-01  -2.19368491e+01]\n",
        " [ -2.30770342e-01   2.72228664e-01   1.75744884e-01  -4.19469811e+01]\n",
        " [  4.60565511e-01   1.34738453e-01   5.37076566e-01  -1.34606322e+02]]\n",
        "[ -2.00234354e-08   0.00000000e+00   0.00000000e+00   3.10900000e-03]\n",
        "[ -2.00234354e-08   0.00000000e+00   0.00000000e+00   3.10500000e-03]\n",
        "[  2.76444904e+01   1.71475149e+02   2.29960456e+02   3.05800000e-03]\n",
        "[ -9.57891235e+00   1.08689973e+02   1.23416611e+02   3.08000000e-03]\n",
        "[  5.68794197e+01  -1.21548941e+02  -7.03656099e+01   3.11800000e-03]\n",
        "[ -1.06642660e+02   1.25801213e+02   8.12145173e+01   3.09100000e-03]\n",
        "[  2.10355852e+02   6.15396102e+01   2.45301039e+02   3.05500000e-03]\n"
       ]
      }
     ],
     "prompt_number": 41
    },
    {
     "cell_type": "code",
     "collapsed": false,
     "input": [
      "(u,s,v) = numpy.linalg.svd(EqArr)"
     ],
     "language": "python",
     "metadata": {},
     "outputs": [],
     "prompt_number": 42
    },
    {
     "cell_type": "code",
     "collapsed": false,
     "input": [
      "print v"
     ],
     "language": "python",
     "metadata": {},
     "outputs": [
      {
       "output_type": "stream",
       "stream": "stdout",
       "text": [
        "[[ -1.83293840e-03  -2.19620149e-03  -4.23162973e-03   9.99986955e-01]\n",
        " [  6.08134422e-01  -7.17318422e-01  -3.40034111e-01  -1.89962608e-03]\n",
        " [ -6.98338187e-01  -2.79722092e-01  -6.58830330e-01  -4.68232405e-03]\n",
        " [  3.77482372e-01   6.38126170e-01  -6.71045076e-01  -7.46268445e-04]]\n"
       ]
      }
     ],
     "prompt_number": 43
    },
    {
     "cell_type": "code",
     "collapsed": false,
     "input": [],
     "language": "python",
     "metadata": {},
     "outputs": []
    }
   ],
   "metadata": {}
  }
 ]
}