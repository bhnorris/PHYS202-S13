{
 "metadata": {
  "name": "ProjectNB"
 },
 "nbformat": 3,
 "nbformat_minor": 0,
 "worksheets": [
  {
   "cells": [
    {
     "cell_type": "markdown",
     "metadata": {},
     "source": [
      "Project Notebook\n",
      "=\n",
      "Cosmic Ray detector toy model\n",
      "-"
     ]
    },
    {
     "cell_type": "code",
     "collapsed": false,
     "input": [
      "import numpy as np"
     ],
     "language": "python",
     "metadata": {},
     "outputs": [],
     "prompt_number": 1
    },
    {
     "cell_type": "code",
     "collapsed": false,
     "input": [
      "f = open('detlocations2.txt', 'r')\n",
      "print f"
     ],
     "language": "python",
     "metadata": {},
     "outputs": [
      {
       "output_type": "stream",
       "stream": "stdout",
       "text": [
        "<open file 'detlocations2.txt', mode 'r' at 0x2942930>\n"
       ]
      }
     ],
     "prompt_number": 2
    },
    {
     "cell_type": "code",
     "collapsed": false,
     "input": [
      "detlocs = np.array([], dtype = double, ndmin=15)"
     ],
     "language": "python",
     "metadata": {},
     "outputs": [],
     "prompt_number": 3
    },
    {
     "cell_type": "code",
     "collapsed": false,
     "input": [
      "f = open('detlocations2.txt', 'r')\n",
      "print f\n",
      "for line in f:\n",
      "    lngth = len(line)\n",
      "    nwline = line[:(lngth-1)]\n",
      "    nwline.split(' ')\n",
      "    #nwline = np.array(nwline,dtype=double)\n",
      "    print nwline\n",
      "    #np.append(detlocs,anwline)\n"
     ],
     "language": "python",
     "metadata": {},
     "outputs": [
      {
       "output_type": "stream",
       "stream": "stdout",
       "text": [
        "<open file 'detlocations2.txt', mode 'r' at 0x2942a50>\n",
        "-2657645.21797652 -4482808.03159621 3665077.93508315\n",
        "-2657375.51612508 -4482911.46652405 3665174.20449309\n",
        "-2657645.21797652 -4482808.03159621 3665077.93508315\n",
        "-2657222.94006044 -4482912.70962322 3665306.79824549\n",
        "-2657230.18655312 -4483052.76228256 3665126.23447323\n",
        "-2657244.20203383 -4482770.20774234 3665445.56922957\n",
        "-2657617.57348615 -4482636.55644744 3665307.89553931\n",
        "-2657654.79688885 -4482699.34162292 3665201.35169372\n",
        "-2657418.94596796 -4483001.5698973 3665035.18510748\n",
        "-2657588.33855682 -4482929.5805372 3665007.56947322\n",
        "-2657751.86063657 -4482682.23038362 3665159.14960047\n",
        "-2657729.45110665 -4482511.67713781 3665373.82713492\n",
        "-2657503.14566797 -4482505.46970685 3665544.35023888\n",
        "-2657434.86212468 -4482746.49198603 3665323.23612249\n",
        "-2657330.13611558 -4482646.63237958 3665516.49978504\n"
       ]
      }
     ],
     "prompt_number": 4
    },
    {
     "cell_type": "code",
     "collapsed": false,
     "input": [
      "detlocs = np.array([-2657645.21797652, -4482808.03159621, 3665077.93508315],[-2657375.51612508, -4482911.46652405, 3665174.20449309], [-2657645.21797652 -4482808.03159621, 3665077.93508315], [-2657222.94006044, -4482912.70962322, 3665306.79824549],[-2657230.18655312, -4483052.76228256, 3665126.23447323],[-2657244.20203383, -4482770.20774234, 3665445.56922957],[-2657617.57348615, -4482636.55644744, 3665307.89553931],[-2657654.79688885, -4482699.34162292, 3665201.35169372],[-2657418.94596796, -4483001.5698973, 3665035.18510748],[-2657588.33855682, -4482929.5805372, 3665007.56947322],[-2657751.86063657, -4482682.23038362, 3665159.14960047],[-2657729.45110665, -4482511.67713781, 3665373.82713492],[-2657503.14566797, -4482505.46970685, 3665544.35023888],[-2657434.86212468, -4482746.49198603, 3665323.23612249],[-2657330.13611558, -4482646.63237958, 3665516.49978504])"
     ],
     "language": "python",
     "metadata": {},
     "outputs": [
      {
       "ename": "ValueError",
       "evalue": "only 2 non-keyword arguments accepted",
       "output_type": "pyerr",
       "traceback": [
        "\u001b[1;31m---------------------------------------------------------------------------\u001b[0m\n\u001b[1;31mValueError\u001b[0m                                Traceback (most recent call last)",
        "\u001b[1;32m<ipython-input-5-e5ccb3ebf5a8>\u001b[0m in \u001b[0;36m<module>\u001b[1;34m()\u001b[0m\n\u001b[1;32m----> 1\u001b[1;33m \u001b[0mdetlocs\u001b[0m \u001b[1;33m=\u001b[0m \u001b[0mnp\u001b[0m\u001b[1;33m.\u001b[0m\u001b[0marray\u001b[0m\u001b[1;33m(\u001b[0m\u001b[1;33m[\u001b[0m\u001b[1;33m-\u001b[0m\u001b[1;36m2657645.21797652\u001b[0m\u001b[1;33m,\u001b[0m \u001b[1;33m-\u001b[0m\u001b[1;36m4482808.03159621\u001b[0m\u001b[1;33m,\u001b[0m \u001b[1;36m3665077.93508315\u001b[0m\u001b[1;33m]\u001b[0m\u001b[1;33m,\u001b[0m\u001b[1;33m[\u001b[0m\u001b[1;33m-\u001b[0m\u001b[1;36m2657375.51612508\u001b[0m\u001b[1;33m,\u001b[0m \u001b[1;33m-\u001b[0m\u001b[1;36m4482911.46652405\u001b[0m\u001b[1;33m,\u001b[0m \u001b[1;36m3665174.20449309\u001b[0m\u001b[1;33m]\u001b[0m\u001b[1;33m,\u001b[0m \u001b[1;33m[\u001b[0m\u001b[1;33m-\u001b[0m\u001b[1;36m2657645.21797652\u001b[0m \u001b[1;33m-\u001b[0m\u001b[1;36m4482808.03159621\u001b[0m\u001b[1;33m,\u001b[0m \u001b[1;36m3665077.93508315\u001b[0m\u001b[1;33m]\u001b[0m\u001b[1;33m,\u001b[0m \u001b[1;33m[\u001b[0m\u001b[1;33m-\u001b[0m\u001b[1;36m2657222.94006044\u001b[0m\u001b[1;33m,\u001b[0m \u001b[1;33m-\u001b[0m\u001b[1;36m4482912.70962322\u001b[0m\u001b[1;33m,\u001b[0m \u001b[1;36m3665306.79824549\u001b[0m\u001b[1;33m]\u001b[0m\u001b[1;33m,\u001b[0m\u001b[1;33m[\u001b[0m\u001b[1;33m-\u001b[0m\u001b[1;36m2657230.18655312\u001b[0m\u001b[1;33m,\u001b[0m \u001b[1;33m-\u001b[0m\u001b[1;36m4483052.76228256\u001b[0m\u001b[1;33m,\u001b[0m \u001b[1;36m3665126.23447323\u001b[0m\u001b[1;33m]\u001b[0m\u001b[1;33m,\u001b[0m\u001b[1;33m[\u001b[0m\u001b[1;33m-\u001b[0m\u001b[1;36m2657244.20203383\u001b[0m\u001b[1;33m,\u001b[0m \u001b[1;33m-\u001b[0m\u001b[1;36m4482770.20774234\u001b[0m\u001b[1;33m,\u001b[0m \u001b[1;36m3665445.56922957\u001b[0m\u001b[1;33m]\u001b[0m\u001b[1;33m,\u001b[0m\u001b[1;33m[\u001b[0m\u001b[1;33m-\u001b[0m\u001b[1;36m2657617.57348615\u001b[0m\u001b[1;33m,\u001b[0m \u001b[1;33m-\u001b[0m\u001b[1;36m4482636.55644744\u001b[0m\u001b[1;33m,\u001b[0m \u001b[1;36m3665307.89553931\u001b[0m\u001b[1;33m]\u001b[0m\u001b[1;33m,\u001b[0m\u001b[1;33m[\u001b[0m\u001b[1;33m-\u001b[0m\u001b[1;36m2657654.79688885\u001b[0m\u001b[1;33m,\u001b[0m \u001b[1;33m-\u001b[0m\u001b[1;36m4482699.34162292\u001b[0m\u001b[1;33m,\u001b[0m \u001b[1;36m3665201.35169372\u001b[0m\u001b[1;33m]\u001b[0m\u001b[1;33m,\u001b[0m\u001b[1;33m[\u001b[0m\u001b[1;33m-\u001b[0m\u001b[1;36m2657418.94596796\u001b[0m\u001b[1;33m,\u001b[0m \u001b[1;33m-\u001b[0m\u001b[1;36m4483001.5698973\u001b[0m\u001b[1;33m,\u001b[0m \u001b[1;36m3665035.18510748\u001b[0m\u001b[1;33m]\u001b[0m\u001b[1;33m,\u001b[0m\u001b[1;33m[\u001b[0m\u001b[1;33m-\u001b[0m\u001b[1;36m2657588.33855682\u001b[0m\u001b[1;33m,\u001b[0m \u001b[1;33m-\u001b[0m\u001b[1;36m4482929.5805372\u001b[0m\u001b[1;33m,\u001b[0m \u001b[1;36m3665007.56947322\u001b[0m\u001b[1;33m]\u001b[0m\u001b[1;33m,\u001b[0m\u001b[1;33m[\u001b[0m\u001b[1;33m-\u001b[0m\u001b[1;36m2657751.86063657\u001b[0m\u001b[1;33m,\u001b[0m \u001b[1;33m-\u001b[0m\u001b[1;36m4482682.23038362\u001b[0m\u001b[1;33m,\u001b[0m \u001b[1;36m3665159.14960047\u001b[0m\u001b[1;33m]\u001b[0m\u001b[1;33m,\u001b[0m\u001b[1;33m[\u001b[0m\u001b[1;33m-\u001b[0m\u001b[1;36m2657729.45110665\u001b[0m\u001b[1;33m,\u001b[0m \u001b[1;33m-\u001b[0m\u001b[1;36m4482511.67713781\u001b[0m\u001b[1;33m,\u001b[0m \u001b[1;36m3665373.82713492\u001b[0m\u001b[1;33m]\u001b[0m\u001b[1;33m,\u001b[0m\u001b[1;33m[\u001b[0m\u001b[1;33m-\u001b[0m\u001b[1;36m2657503.14566797\u001b[0m\u001b[1;33m,\u001b[0m \u001b[1;33m-\u001b[0m\u001b[1;36m4482505.46970685\u001b[0m\u001b[1;33m,\u001b[0m \u001b[1;36m3665544.35023888\u001b[0m\u001b[1;33m]\u001b[0m\u001b[1;33m,\u001b[0m\u001b[1;33m[\u001b[0m\u001b[1;33m-\u001b[0m\u001b[1;36m2657434.86212468\u001b[0m\u001b[1;33m,\u001b[0m \u001b[1;33m-\u001b[0m\u001b[1;36m4482746.49198603\u001b[0m\u001b[1;33m,\u001b[0m \u001b[1;36m3665323.23612249\u001b[0m\u001b[1;33m]\u001b[0m\u001b[1;33m,\u001b[0m\u001b[1;33m[\u001b[0m\u001b[1;33m-\u001b[0m\u001b[1;36m2657330.13611558\u001b[0m\u001b[1;33m,\u001b[0m \u001b[1;33m-\u001b[0m\u001b[1;36m4482646.63237958\u001b[0m\u001b[1;33m,\u001b[0m \u001b[1;36m3665516.49978504\u001b[0m\u001b[1;33m]\u001b[0m\u001b[1;33m)\u001b[0m\u001b[1;33m\u001b[0m\u001b[0m\n\u001b[0m",
        "\u001b[1;31mValueError\u001b[0m: only 2 non-keyword arguments accepted"
       ]
      }
     ],
     "prompt_number": 5
    },
    {
     "cell_type": "code",
     "collapsed": false,
     "input": [
      "detlocs = [[-2657645.21797652, -4482808.03159621, 3665077.93508315],[-2657375.51612508, -4482911.46652405, 3665174.20449309], [-2657645.21797652, -4482808.03159621, 3665077.93508315], [-2657222.94006044, -4482912.70962322, 3665306.79824549],[-2657230.18655312, -4483052.76228256, 3665126.23447323],[-2657244.20203383, -4482770.20774234, 3665445.56922957],[-2657617.57348615, -4482636.55644744, 3665307.89553931],[-2657654.79688885, -4482699.34162292, 3665201.35169372],[-2657418.94596796, -4483001.5698973, 3665035.18510748],[-2657588.33855682, -4482929.5805372, 3665007.56947322],[-2657751.86063657, -4482682.23038362, 3665159.14960047],[-2657729.45110665, -4482511.67713781, 3665373.82713492],[-2657503.14566797, -4482505.46970685, 3665544.35023888],[-2657434.86212468, -4482746.49198603, 3665323.23612249],[-2657330.13611558, -4482646.63237958, 3665516.49978504]]"
     ],
     "language": "python",
     "metadata": {},
     "outputs": [],
     "prompt_number": 6
    },
    {
     "cell_type": "code",
     "collapsed": false,
     "input": [
      "type(detlocs)"
     ],
     "language": "python",
     "metadata": {},
     "outputs": [
      {
       "output_type": "pyout",
       "prompt_number": 7,
       "text": [
        "list"
       ]
      }
     ],
     "prompt_number": 7
    },
    {
     "cell_type": "code",
     "collapsed": false,
     "input": [
      "detlocs = np.array(detlocs)\n",
      "print type(detlocs)\n",
      "print detlocs"
     ],
     "language": "python",
     "metadata": {},
     "outputs": [
      {
       "output_type": "stream",
       "stream": "stdout",
       "text": [
        "<type 'numpy.ndarray'>\n",
        "[[-2657645.21797652 -4482808.03159621  3665077.93508315]\n",
        " [-2657375.51612508 -4482911.46652405  3665174.20449309]\n",
        " [-2657645.21797652 -4482808.03159621  3665077.93508315]\n",
        " [-2657222.94006044 -4482912.70962322  3665306.79824549]\n",
        " [-2657230.18655312 -4483052.76228256  3665126.23447323]\n",
        " [-2657244.20203383 -4482770.20774234  3665445.56922957]\n",
        " [-2657617.57348615 -4482636.55644744  3665307.89553931]\n",
        " [-2657654.79688885 -4482699.34162292  3665201.35169372]\n",
        " [-2657418.94596796 -4483001.5698973   3665035.18510748]\n",
        " [-2657588.33855682 -4482929.5805372   3665007.56947322]\n",
        " [-2657751.86063657 -4482682.23038362  3665159.14960047]\n",
        " [-2657729.45110665 -4482511.67713781  3665373.82713492]\n",
        " [-2657503.14566797 -4482505.46970685  3665544.35023888]\n",
        " [-2657434.86212468 -4482746.49198603  3665323.23612249]\n",
        " [-2657330.13611558 -4482646.63237958  3665516.49978504]]\n"
       ]
      }
     ],
     "prompt_number": 8
    },
    {
     "cell_type": "code",
     "collapsed": false,
     "input": [
      "detlocs1 = np.array(detlocs)\n",
      "print detlocs1, type(detlocs1)\n",
      "print detlocs, type(detlocs)"
     ],
     "language": "python",
     "metadata": {},
     "outputs": [
      {
       "output_type": "stream",
       "stream": "stdout",
       "text": [
        "[[-2657645.21797652 -4482808.03159621  3665077.93508315]\n",
        " [-2657375.51612508 -4482911.46652405  3665174.20449309]\n",
        " [-2657645.21797652 -4482808.03159621  3665077.93508315]\n",
        " [-2657222.94006044 -4482912.70962322  3665306.79824549]\n",
        " [-2657230.18655312 -4483052.76228256  3665126.23447323]\n",
        " [-2657244.20203383 -4482770.20774234  3665445.56922957]\n",
        " [-2657617.57348615 -4482636.55644744  3665307.89553931]\n",
        " [-2657654.79688885 -4482699.34162292  3665201.35169372]\n",
        " [-2657418.94596796 -4483001.5698973   3665035.18510748]\n",
        " [-2657588.33855682 -4482929.5805372   3665007.56947322]\n",
        " [-2657751.86063657 -4482682.23038362  3665159.14960047]\n",
        " [-2657729.45110665 -4482511.67713781  3665373.82713492]\n",
        " [-2657503.14566797 -4482505.46970685  3665544.35023888]\n",
        " [-2657434.86212468 -4482746.49198603  3665323.23612249]\n",
        " [-2657330.13611558 -4482646.63237958  3665516.49978504]] <type 'numpy.ndarray'>\n",
        "[[-2657645.21797652 -4482808.03159621  3665077.93508315]\n",
        " [-2657375.51612508 -4482911.46652405  3665174.20449309]\n",
        " [-2657645.21797652 -4482808.03159621  3665077.93508315]\n",
        " [-2657222.94006044 -4482912.70962322  3665306.79824549]\n",
        " [-2657230.18655312 -4483052.76228256  3665126.23447323]\n",
        " [-2657244.20203383 -4482770.20774234  3665445.56922957]\n",
        " [-2657617.57348615 -4482636.55644744  3665307.89553931]\n",
        " [-2657654.79688885 -4482699.34162292  3665201.35169372]\n",
        " [-2657418.94596796 -4483001.5698973   3665035.18510748]\n",
        " [-2657588.33855682 -4482929.5805372   3665007.56947322]\n",
        " [-2657751.86063657 -4482682.23038362  3665159.14960047]\n",
        " [-2657729.45110665 -4482511.67713781  3665373.82713492]\n",
        " [-2657503.14566797 -4482505.46970685  3665544.35023888]\n",
        " [-2657434.86212468 -4482746.49198603  3665323.23612249]\n",
        " [-2657330.13611558 -4482646.63237958  3665516.49978504]] <type 'numpy.ndarray'>\n"
       ]
      }
     ],
     "prompt_number": 9
    },
    {
     "cell_type": "code",
     "collapsed": false,
     "input": [
      "originx = -2657645.2179765\n",
      "originy = -4482808.03159621\n",
      "originz = 3665077.93508315\n",
      "print originx, originy, originz"
     ],
     "language": "python",
     "metadata": {},
     "outputs": [
      {
       "output_type": "stream",
       "stream": "stdout",
       "text": [
        "-2657645.21798 -4482808.0316 3665077.93508\n"
       ]
      }
     ],
     "prompt_number": 10
    },
    {
     "cell_type": "code",
     "collapsed": false,
     "input": [
      "for i in range(15):\n",
      "    detlocs1[i][0] = (detlocs1[i][0] - originx)\n",
      "    detlocs1[i][1] = (detlocs1[i][1] - originy)\n",
      "    detlocs1[i][2] = (detlocs1[i][2] - originz)"
     ],
     "language": "python",
     "metadata": {},
     "outputs": [],
     "prompt_number": 11
    },
    {
     "cell_type": "code",
     "collapsed": false,
     "input": [
      "print detlocs\n",
      "print detlocs1\n",
      "#both in meters"
     ],
     "language": "python",
     "metadata": {},
     "outputs": [
      {
       "output_type": "stream",
       "stream": "stdout",
       "text": [
        "[[-2657645.21797652 -4482808.03159621  3665077.93508315]\n",
        " [-2657375.51612508 -4482911.46652405  3665174.20449309]\n",
        " [-2657645.21797652 -4482808.03159621  3665077.93508315]\n",
        " [-2657222.94006044 -4482912.70962322  3665306.79824549]\n",
        " [-2657230.18655312 -4483052.76228256  3665126.23447323]\n",
        " [-2657244.20203383 -4482770.20774234  3665445.56922957]\n",
        " [-2657617.57348615 -4482636.55644744  3665307.89553931]\n",
        " [-2657654.79688885 -4482699.34162292  3665201.35169372]\n",
        " [-2657418.94596796 -4483001.5698973   3665035.18510748]\n",
        " [-2657588.33855682 -4482929.5805372   3665007.56947322]\n",
        " [-2657751.86063657 -4482682.23038362  3665159.14960047]\n",
        " [-2657729.45110665 -4482511.67713781  3665373.82713492]\n",
        " [-2657503.14566797 -4482505.46970685  3665544.35023888]\n",
        " [-2657434.86212468 -4482746.49198603  3665323.23612249]\n",
        " [-2657330.13611558 -4482646.63237958  3665516.49978504]]\n",
        "[[ -2.00234354e-08   0.00000000e+00   0.00000000e+00]\n",
        " [  2.69701851e+02  -1.03434928e+02   9.62694099e+01]\n",
        " [ -2.00234354e-08   0.00000000e+00   0.00000000e+00]\n",
        " [  4.22277916e+02  -1.04678027e+02   2.28863162e+02]\n",
        " [  4.15031423e+02  -2.44730686e+02   4.82993901e+01]\n",
        " [  4.01015943e+02   3.78238539e+01   3.67634146e+02]\n",
        " [  2.76444904e+01   1.71475149e+02   2.29960456e+02]\n",
        " [ -9.57891235e+00   1.08689973e+02   1.23416611e+02]\n",
        " [  2.26272009e+02  -1.93538301e+02  -4.27499757e+01]\n",
        " [  5.68794197e+01  -1.21548941e+02  -7.03656099e+01]\n",
        " [ -1.06642660e+02   1.25801213e+02   8.12145173e+01]\n",
        " [ -8.42331302e+01   2.96354458e+02   2.95892052e+02]\n",
        " [  1.42072309e+02   3.02561889e+02   4.66415156e+02]\n",
        " [  2.10355852e+02   6.15396102e+01   2.45301039e+02]\n",
        " [  3.15081861e+02   1.61399217e+02   4.38564702e+02]]\n"
       ]
      }
     ],
     "prompt_number": 12
    },
    {
     "cell_type": "code",
     "collapsed": false,
     "input": [
      "for i in range(15):\n",
      "    for ndx in range(3):\n",
      "        if detlocs1[i][ndx] == detlocs[i][ndx]:\n",
      "            print True\n",
      "        else:\n",
      "            print False\n",
      "            "
     ],
     "language": "python",
     "metadata": {},
     "outputs": [
      {
       "output_type": "stream",
       "stream": "stdout",
       "text": [
        "False\n",
        "False\n",
        "False\n",
        "False\n",
        "False\n",
        "False\n",
        "False\n",
        "False\n",
        "False\n",
        "False\n",
        "False\n",
        "False\n",
        "False\n",
        "False\n",
        "False\n",
        "False\n",
        "False\n",
        "False\n",
        "False\n",
        "False\n",
        "False\n",
        "False\n",
        "False\n",
        "False\n",
        "False\n",
        "False\n",
        "False\n",
        "False\n",
        "False\n",
        "False\n",
        "False\n",
        "False\n",
        "False\n",
        "False\n",
        "False\n",
        "False\n",
        "False\n",
        "False\n",
        "False\n",
        "False\n",
        "False\n",
        "False\n",
        "False\n",
        "False\n",
        "False\n"
       ]
      }
     ],
     "prompt_number": 13
    },
    {
     "cell_type": "code",
     "collapsed": false,
     "input": [
      "import random as rnd"
     ],
     "language": "python",
     "metadata": {},
     "outputs": [],
     "prompt_number": 14
    },
    {
     "cell_type": "code",
     "collapsed": false,
     "input": [
      "rnd.seed(None)"
     ],
     "language": "python",
     "metadata": {},
     "outputs": [],
     "prompt_number": 15
    },
    {
     "cell_type": "code",
     "collapsed": false,
     "input": [
      "print rnd.random()"
     ],
     "language": "python",
     "metadata": {},
     "outputs": [
      {
       "output_type": "stream",
       "stream": "stdout",
       "text": [
        "0.965442763369\n"
       ]
      }
     ],
     "prompt_number": 16
    },
    {
     "cell_type": "code",
     "collapsed": false,
     "input": [
      "atmCircleRadius = 1300.0 / 2.0 #meters\n",
      "atmCircleHeight = 15000.0 #meters\n",
      "atmCircleTheta = 2 * pi #radians\n",
      "N = 10 #simulation sample size (int)\n",
      "atmIncidencePhi = 0 #angle that particles hit atmosphere range from 0 to pi radians\n",
      "atmIncidenceRadius= 0 #where in the circle above the campus  particle hits\n",
      "atmIncidenceTheta = 0 #where in the circle above the campus  particle hits"
     ],
     "language": "python",
     "metadata": {},
     "outputs": [],
     "prompt_number": 17
    },
    {
     "cell_type": "code",
     "collapsed": false,
     "input": [
      "def GetMuonSpeed(energy):\n",
      "    \"\"\"Given energy returns relativistic speed \"\"\"\n",
      "    MMu = .1056 #muon mass in GeV/c2\n",
      "    c = 3e8 #speed of light in m/s\n",
      "    v = np.sqrt(c**2 * (1 - (MMu/energy)**2)) #relativistic velocity\n",
      "    return v"
     ],
     "language": "python",
     "metadata": {},
     "outputs": [],
     "prompt_number": 18
    },
    {
     "cell_type": "code",
     "collapsed": false,
     "input": [
      "def GetRandomParticleIncidence(MaxRadius, MaxAngle):\n",
      "    \"\"\"Given angle in radians given back in (x,y) and degrees \"\"\"\n",
      "    radius = rnd.random() * MaxRadius\n",
      "    angle = rnd.random() * MaxAngle\n",
      "    incidenceAngle = rnd.random() * pi\n",
      "    x = cos(angle) * radius\n",
      "    y = sin(angle) * radius\n",
      "    E = rnd.gauss(4,1.5) #energy in GeV\n",
      "    return np.array([x,y,np.degrees(incidenceAngle),E])\n",
      "\n",
      "rndParticle = GetRandomParticleIncidence(atmCircleRadius, atmCircleTheta)\n",
      "partVel = GetMuonSpeed(rndParticle[3])\n",
      "print rndParticle\n",
      "print partVel, partVel / 3e8"
     ],
     "language": "python",
     "metadata": {},
     "outputs": [
      {
       "output_type": "stream",
       "stream": "stdout",
       "text": [
        "[-320.05757186   62.52039663  166.75290523    4.29982153]\n",
        "299909513.511 0.99969837837\n"
       ]
      }
     ],
     "prompt_number": 19
    },
    {
     "cell_type": "code",
     "collapsed": false,
     "input": [
      "def GetSimulationSet(MaxRadius,MaxAngle,SampleSize):\n",
      "    \"\"\"Uses GetRandomParticleIncidence and a given Sample Size \n",
      "        to give back a simulated set\"\"\"\n",
      "    i = 0\n",
      "    if SampleSize > 0:\n",
      "        retArr = np.array(GetRandomParticleIncidence(MaxRadius,MaxAngle))\n",
      "        while i < (SampleSize-1):\n",
      "            retArr =  vstack((retArr, GetRandomParticleIncidence(MaxRadius,MaxAngle)))\n",
      "            i += 1\n",
      "        return retArr\n",
      "    else:\n",
      "        return None"
     ],
     "language": "python",
     "metadata": {},
     "outputs": [],
     "prompt_number": 20
    },
    {
     "cell_type": "code",
     "collapsed": false,
     "input": [
      "GetSimulationSet(atmCircleRadius, atmCircleTheta, N)"
     ],
     "language": "python",
     "metadata": {},
     "outputs": [
      {
       "output_type": "pyout",
       "prompt_number": 21,
       "text": [
        "array([[ 103.28422944,  -43.9146664 ,   38.56649119,    2.22951727],\n",
        "       [-106.32226935,  -81.62767951,  179.24348962,    4.52969718],\n",
        "       [-473.43965789,  256.68405612,    1.55612965,    1.62587717],\n",
        "       [ 159.59137188,  276.20316277,   94.53299693,    5.19922118],\n",
        "       [  46.86179127,   99.30180626,  101.42802766,    1.10404581],\n",
        "       [  67.02591992,  500.38958007,  102.61385894,    6.90814863],\n",
        "       [  17.4422088 , -145.12201259,  161.39271801,    3.81992636],\n",
        "       [   6.23546222,   61.79094323,   72.14932054,    4.19195661],\n",
        "       [-250.89900182, -100.58124016,  158.55197288,    1.94779308],\n",
        "       [ -12.57947992,  150.70922102,  169.18566565,    3.93931813]])"
       ]
      }
     ],
     "prompt_number": 21
    },
    {
     "cell_type": "code",
     "collapsed": false,
     "input": [
      "def GetArrivalTime(speed, distance):\n",
      "    \"\"\"Given speed and distance gives time of arrival\"\"\"\n",
      "    c=3e8\n",
      "    gamm = 1 / np.sqrt(1 - speed**2/c**2)\n",
      "    dt0 = distance / speed\n",
      "    dt = gamm * dt0\n",
      "    return dt"
     ],
     "language": "python",
     "metadata": {},
     "outputs": [],
     "prompt_number": 22
    },
    {
     "cell_type": "code",
     "collapsed": false,
     "input": [
      "def GetToAdelta(times):\n",
      "    k = 100\n",
      "    retArr = np.array(times)\n",
      "    for ToA in times:\n",
      "        if ToA != -1.0:\n",
      "            if ToA < k:\n",
      "                k = ToA\n",
      "    if k != 100:\n",
      "        i = 0\n",
      "        for ToA in times:\n",
      "            if ToA != -1.0:\n",
      "                dti = (rnd.gauss(0,0.05))*(k - ToA)\n",
      "                retArr[i] = retArr[i] + dti\n",
      "            i+=1\n",
      "        return retArr\n",
      "    else:\n",
      "        return retArr"
     ],
     "language": "python",
     "metadata": {},
     "outputs": [],
     "prompt_number": 23
    },
    {
     "cell_type": "code",
     "collapsed": false,
     "input": [
      "def ConeCreation(detectorLocations, simulationSet, atmHeight, degreeOfCone):\n",
      "    \"\"\"Create circular based cone with incident height relative to origin\"\"\"\n",
      "    H = atmHeight\n",
      "    Th = degreeOfCone\n",
      "    retArr = np.array([])\n",
      "    i, j,t,f = 0,0,True,False\n",
      "    for i in range(len(simulationSet)):\n",
      "        VoC = np.array([simulationSet[i][0],simulationSet[i][1]])\n",
      "        #barr = np.array([],dtype=bool)\n",
      "        detArr = np.array([],dtype=double)\n",
      "        ToAArr = np.array([])\n",
      "        for j in range(15):\n",
      "            #print j\n",
      "            H = atmHeight - detectorLocations[j][2]\n",
      "            speed = GetMuonSpeed(simulationSet[i][3])\n",
      "            dist = H / cos(np.radians(Th))\n",
      "            ToA = GetArrivalTime(speed, dist)\n",
      "            ToAArr = np.append(ToAArr, ToA)\n",
      "            r = tan(np.radians(Th)) * H\n",
      "            rsqrd = (detectorLocations[j][0] - VoC[0]) **2 + (detectorLocations[j][1] - VoC[1])**2\n",
      "            if rsqrd > r**2:\n",
      "                #barr = np.append(barr, f)\n",
      "                ToAArr[j] = -1.0\n",
      "                ToAE = np.array([-1.0,-1.0])\n",
      "                detArr = np.append(detArr,ToAE)\n",
      "            else:\n",
      "                #barr = np.append(barr, t)\n",
      "                ToAE = np.array([ToA,simulationSet[i][3]])\n",
      "                detArr = np.append(detArr,ToAE)\n",
      "        ToAArr = GetToAdelta(ToAArr)\n",
      "        ToAi,detAri = 0,0\n",
      "        while detAri < len(detArr):\n",
      "            detArr[detAri] = ToAArr[ToAi]\n",
      "            ToAi += 1\n",
      "            detAri += 2\n",
      "            \n",
      "        if i == 0:\n",
      "            retArr = detArr\n",
      "            #retArr = barr\n",
      "        else:\n",
      "            retArr =  np.vstack((retArr, detArr))\n",
      "            #retArr = np.vstack((retArr,barr))\n",
      "    return retArr"
     ],
     "language": "python",
     "metadata": {},
     "outputs": [],
     "prompt_number": 24
    },
    {
     "cell_type": "code",
     "collapsed": false,
     "input": [
      "#print detlocs1\n",
      "N = 5\n",
      "simSet = GetSimulationSet(atmCircleRadius,atmCircleTheta,N)\n",
      "#print simSet\n",
      "#print atmCircleHeight\n",
      "cone = ConeCreation(detlocs1,simSet,atmCircleHeight, 1)\n",
      "print cone"
     ],
     "language": "python",
     "metadata": {},
     "outputs": [
      {
       "output_type": "stream",
       "stream": "stdout",
       "text": [
        "[[ -1.00000000e+00  -1.00000000e+00  -1.00000000e+00  -1.00000000e+00\n",
        "   -1.00000000e+00  -1.00000000e+00  -1.00000000e+00  -1.00000000e+00\n",
        "   -1.00000000e+00  -1.00000000e+00  -1.00000000e+00  -1.00000000e+00\n",
        "   -1.00000000e+00  -1.00000000e+00  -1.00000000e+00  -1.00000000e+00\n",
        "   -1.00000000e+00  -1.00000000e+00  -1.00000000e+00  -1.00000000e+00\n",
        "   -1.00000000e+00  -1.00000000e+00  -1.00000000e+00  -1.00000000e+00\n",
        "   -1.00000000e+00  -1.00000000e+00  -1.00000000e+00  -1.00000000e+00\n",
        "   -1.00000000e+00  -1.00000000e+00]\n",
        " [ -1.00000000e+00  -1.00000000e+00  -1.00000000e+00  -1.00000000e+00\n",
        "   -1.00000000e+00  -1.00000000e+00  -1.00000000e+00  -1.00000000e+00\n",
        "   -1.00000000e+00  -1.00000000e+00  -1.00000000e+00  -1.00000000e+00\n",
        "   -1.00000000e+00  -1.00000000e+00  -1.00000000e+00  -1.00000000e+00\n",
        "   -1.00000000e+00  -1.00000000e+00  -1.00000000e+00  -1.00000000e+00\n",
        "   -1.00000000e+00  -1.00000000e+00  -1.00000000e+00  -1.00000000e+00\n",
        "   -1.00000000e+00  -1.00000000e+00  -1.00000000e+00  -1.00000000e+00\n",
        "   -1.00000000e+00  -1.00000000e+00]\n",
        " [ -1.00000000e+00  -1.00000000e+00  -1.00000000e+00  -1.00000000e+00\n",
        "   -1.00000000e+00  -1.00000000e+00  -1.00000000e+00  -1.00000000e+00\n",
        "   -1.00000000e+00  -1.00000000e+00  -1.00000000e+00  -1.00000000e+00\n",
        "   -1.00000000e+00  -1.00000000e+00  -1.00000000e+00  -1.00000000e+00\n",
        "   -1.00000000e+00  -1.00000000e+00  -1.00000000e+00  -1.00000000e+00\n",
        "   -1.00000000e+00  -1.00000000e+00  -1.00000000e+00  -1.00000000e+00\n",
        "   -1.00000000e+00  -1.00000000e+00  -1.00000000e+00  -1.00000000e+00\n",
        "   -1.00000000e+00  -1.00000000e+00]\n",
        " [  7.09257735e-04   1.49224860e+00  -1.00000000e+00  -1.00000000e+00\n",
        "    7.07926344e-04   1.49224860e+00  -1.00000000e+00  -1.00000000e+00\n",
        "   -1.00000000e+00  -1.00000000e+00  -1.00000000e+00  -1.00000000e+00\n",
        "    6.97602805e-04   1.49224860e+00   7.01954609e-04   1.49224860e+00\n",
        "   -1.00000000e+00  -1.00000000e+00   7.11318572e-04   1.49224860e+00\n",
        "    7.04564157e-04   1.49224860e+00  -1.00000000e+00  -1.00000000e+00\n",
        "   -1.00000000e+00  -1.00000000e+00   6.96855399e-04   1.49224860e+00\n",
        "   -1.00000000e+00  -1.00000000e+00]\n",
        " [ -1.00000000e+00  -1.00000000e+00  -1.00000000e+00  -1.00000000e+00\n",
        "   -1.00000000e+00  -1.00000000e+00  -1.00000000e+00  -1.00000000e+00\n",
        "   -1.00000000e+00  -1.00000000e+00  -1.00000000e+00  -1.00000000e+00\n",
        "   -1.00000000e+00  -1.00000000e+00  -1.00000000e+00  -1.00000000e+00\n",
        "   -1.00000000e+00  -1.00000000e+00   2.70342617e-03   5.68112975e+00\n",
        "   -1.00000000e+00  -1.00000000e+00  -1.00000000e+00  -1.00000000e+00\n",
        "   -1.00000000e+00  -1.00000000e+00  -1.00000000e+00  -1.00000000e+00\n",
        "   -1.00000000e+00  -1.00000000e+00]]\n"
       ]
      }
     ],
     "prompt_number": 25
    },
    {
     "cell_type": "code",
     "collapsed": false,
     "input": [
      "def sifter(ConeHits):\n",
      "    hitCheck = np.array([],dtype=bool)\n",
      "    h = np.array([])\n",
      "    i,j,k,t,f = 0,0,0,True,False\n",
      "    for i in range(len(ConeHits)):\n",
      "       for j in range(15):\n",
      "            #print ConeHits[i][j]\n",
      "            if ConeHits[i][j] != (-1.0):\n",
      "                k+=1\n",
      "       if k > 2:\n",
      "           hitCheck=np.append(hitCheck,t)\n",
      "       else:\n",
      "           hitCheck=np.append(hitCheck,f)\n",
      "       h = np.append(h,k)\n",
      "       k = 0\n",
      "    #print h\n",
      "    return hitCheck"
     ],
     "language": "python",
     "metadata": {},
     "outputs": [],
     "prompt_number": 26
    },
    {
     "cell_type": "code",
     "collapsed": false,
     "input": [
      "print sifter(cone)"
     ],
     "language": "python",
     "metadata": {},
     "outputs": [
      {
       "output_type": "stream",
       "stream": "stdout",
       "text": [
        "[False False False  True False]\n"
       ]
      }
     ],
     "prompt_number": 27
    },
    {
     "cell_type": "code",
     "collapsed": false,
     "input": [
      "N = 100\n",
      "simSet = GetSimulationSet(atmCircleRadius,atmCircleTheta,N)\n",
      "cone = ConeCreation(detlocs1,simSet,atmCircleHeight, 1)\n",
      "#print cone\n",
      "print sifter(cone)"
     ],
     "language": "python",
     "metadata": {},
     "outputs": [
      {
       "output_type": "stream",
       "stream": "stdout",
       "text": [
        "[ True  True  True  True  True  True False  True  True False  True  True\n",
        "  True  True  True  True False  True  True False  True False  True  True\n",
        "  True  True False False False False False  True False False  True  True\n",
        " False  True  True  True False  True False False False False False  True\n",
        " False  True  True False  True False False  True  True  True  True False\n",
        "  True  True False  True  True  True False  True  True  True False  True\n",
        " False False  True  True False  True False False  True  True False  True\n",
        " False False False  True  True  True  True  True  True  True  True  True\n",
        " False  True  True  True]\n"
       ]
      }
     ],
     "prompt_number": 28
    },
    {
     "cell_type": "code",
     "collapsed": false,
     "input": [
      "def finalConeSet(cone,sift):\n",
      "    retArr = np.array([])\n",
      "    bArr = np.array(sift,dtype=bool)\n",
      "    Si,Ci,t,f = 0,0,True,False\n",
      "    ch = t\n",
      "    while Ci < len(cone):\n",
      "        if (bArr[Si] == t) and (ch==t):\n",
      "            retArr = np.append(retArr,cone[Ci])\n",
      "            ch = f\n",
      "        elif (bArr[Si] ==t) and (ch == f):\n",
      "            retArr =  np.vstack((retArr, cone[Ci])) \n",
      "        Ci += 1\n",
      "        Si += 1\n",
      "    return retArr"
     ],
     "language": "python",
     "metadata": {},
     "outputs": [],
     "prompt_number": 29
    },
    {
     "cell_type": "code",
     "collapsed": false,
     "input": [
      "N = 100\n",
      "simSet = GetSimulationSet(atmCircleRadius,atmCircleTheta,N)\n",
      "cone = ConeCreation(detlocs1,simSet,atmCircleHeight, 1)\n",
      "sift = sifter(cone)\n",
      "print sift\n",
      "finalData = finalConeSet(cone,sift)\n",
      "print finalData"
     ],
     "language": "python",
     "metadata": {},
     "outputs": [
      {
       "output_type": "stream",
       "stream": "stdout",
       "text": [
        "[False False  True  True  True  True  True False  True False False  True\n",
        " False  True False False False False False False  True False False False\n",
        "  True False False  True False False False  True  True False False False\n",
        " False  True  True False  True False  True False  True False  True False\n",
        "  True False False False  True False  True  True False  True  True  True\n",
        " False False False  True  True False  True False  True  True  True False\n",
        " False False  True  True  True  True False  True  True  True  True  True\n",
        "  True False  True  True  True False False False  True False  True False\n",
        " False  True False  True]\n",
        "[[  2.10618613e-03   4.44495167e+00  -1.00000000e+00 ...,  -1.00000000e+00\n",
        "   -1.00000000e+00  -1.00000000e+00]\n",
        " [  1.46838182e-03   3.09632529e+00  -1.00000000e+00 ...,  -1.00000000e+00\n",
        "   -1.00000000e+00  -1.00000000e+00]\n",
        " [  2.90332576e-03   6.13524780e+00   2.89121981e-03 ...,   6.13524780e+00\n",
        "    2.82086051e-03   6.13524780e+00]\n",
        " ..., \n",
        " [  2.35033856e-03   4.96964527e+00  -1.00000000e+00 ...,   4.96964527e+00\n",
        "   -1.00000000e+00  -1.00000000e+00]\n",
        " [  3.26159379e-03   6.88364528e+00  -1.00000000e+00 ...,   6.88364528e+00\n",
        "   -1.00000000e+00  -1.00000000e+00]\n",
        " [  2.06722590e-03   4.36872995e+00  -1.00000000e+00 ...,   4.36872995e+00\n",
        "   -1.00000000e+00  -1.00000000e+00]]\n"
       ]
      }
     ],
     "prompt_number": 30
    },
    {
     "cell_type": "code",
     "collapsed": false,
     "input": [
      "def datToFile(fileName, data):\n",
      "    f=open(fileName, 'w')\n",
      "    for event in data:\n",
      "        for det in event:\n",
      "            sDat = '%(#)1.3e ' % {\"#\" : det}\n",
      "            f.write(sDat)\n",
      "        f.write('\\n')\n",
      "    f.close()"
     ],
     "language": "python",
     "metadata": {},
     "outputs": [],
     "prompt_number": 34
    },
    {
     "cell_type": "code",
     "collapsed": false,
     "input": [
      "datToFile('./data3.txt',finalData)"
     ],
     "language": "python",
     "metadata": {},
     "outputs": [],
     "prompt_number": 35
    },
    {
     "cell_type": "code",
     "collapsed": false,
     "input": [
      "def datFromFile(fileName, DatOut):\n",
      "    f=open(fileName, 'r')\n",
      "    i = 0\n",
      "    for line in f:\n",
      "        sDat = line\n",
      "        sDat = sDat.split(' ')\n",
      "        sDat = sDat[:-1]\n",
      "        Data = np.array([])\n",
      "        for dat in sDat:\n",
      "            dat = double(dat)\n",
      "            Data = np.append(Data,dat)\n",
      "        if (i == 0):\n",
      "            DatOut = Data\n",
      "        else:\n",
      "            DatOut = np.vstack((DatOut, Data))\n",
      "        i+=1\n",
      "    f.close()\n",
      "    return DatOut\n",
      "        "
     ],
     "language": "python",
     "metadata": {},
     "outputs": [],
     "prompt_number": 72
    },
    {
     "cell_type": "code",
     "collapsed": false,
     "input": [
      "datout = np.array([])\n",
      "datout = datFromFile('./data3.txt',datout)\n",
      "type(datout)\n",
      "np.shape(datout)\n",
      "datout[0]"
     ],
     "language": "python",
     "metadata": {},
     "outputs": [
      {
       "output_type": "pyout",
       "prompt_number": 77,
       "text": [
        "array([  2.10600000e-03,   4.44500000e+00,  -1.00000000e+00,\n",
        "        -1.00000000e+00,   2.10500000e-03,   4.44500000e+00,\n",
        "        -1.00000000e+00,  -1.00000000e+00,  -1.00000000e+00,\n",
        "        -1.00000000e+00,  -1.00000000e+00,  -1.00000000e+00,\n",
        "        -1.00000000e+00,  -1.00000000e+00,  -1.00000000e+00,\n",
        "        -1.00000000e+00,  -1.00000000e+00,  -1.00000000e+00,\n",
        "         2.11500000e-03,   4.44500000e+00,   2.09400000e-03,\n",
        "         4.44500000e+00,  -1.00000000e+00,  -1.00000000e+00,\n",
        "        -1.00000000e+00,  -1.00000000e+00,  -1.00000000e+00,\n",
        "        -1.00000000e+00,  -1.00000000e+00,  -1.00000000e+00])"
       ]
      }
     ],
     "prompt_number": 77
    },
    {
     "cell_type": "code",
     "collapsed": false,
     "input": [
      "def setUpEquations(detlocs, ToAs):\n",
      "    #code\n",
      "    Am = 2*xm / (v*tm) - (2*x1) / (v*t1)\n",
      "    Bm = 2*ym / (v*tm) - (2*y1) / (v*t1)\n",
      "    Cm = 2*zm / (v*tm) - (2*z1) / (v*t1)\n",
      "    Dm = v*tm - v*t1 -(xm**2 + ym**2 +zm**2)/(v*tm) + (x1**2 + y1**2 +z1**2)/(v*t1)\n",
      "    detEqArr = np.array([Am,Bm,Cm,-Dm])"
     ],
     "language": "python",
     "metadata": {},
     "outputs": [],
     "prompt_number": 33
    },
    {
     "cell_type": "code",
     "collapsed": false,
     "input": [],
     "language": "python",
     "metadata": {},
     "outputs": [],
     "prompt_number": 33
    }
   ],
   "metadata": {}
  }
 ]
}