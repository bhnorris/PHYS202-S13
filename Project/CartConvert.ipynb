{
 "metadata": {
  "name": "CartConvert"
 },
 "nbformat": 3,
 "nbformat_minor": 0,
 "worksheets": [
  {
   "cells": [
    {
     "cell_type": "code",
     "collapsed": false,
     "input": [
      "import numpy as np"
     ],
     "language": "python",
     "metadata": {},
     "outputs": [],
     "prompt_number": 1
    },
    {
     "cell_type": "code",
     "collapsed": false,
     "input": [
      "def GetCart(latitude,longitude):\n",
      "    R = 6378137 #in m\n",
      "    LAT = latitude * np.pi/180\n",
      "    LON = longitude * np.pi/180\n",
      "    x = -R * np.cos(LAT) * np.cos(LON)\n",
      "    y =  R * np.sin(LAT) \n",
      "    z =  R * np.cos(LAT) * np.sin(LON)\n",
      "    return np.array([x,y,z])"
     ],
     "language": "python",
     "metadata": {},
     "outputs": [],
     "prompt_number": 3
    },
    {
     "cell_type": "markdown",
     "metadata": {},
     "source": [
      "retrieve detector locations via google earth and convert to cartesian"
     ]
    },
    {
     "cell_type": "code",
     "collapsed": false,
     "input": [],
     "language": "python",
     "metadata": {},
     "outputs": []
    }
   ],
   "metadata": {}
  }
 ]
}