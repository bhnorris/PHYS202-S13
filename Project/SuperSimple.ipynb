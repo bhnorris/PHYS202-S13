{
 "metadata": {
  "name": "SuperSimple"
 },
 "nbformat": 3,
 "nbformat_minor": 0,
 "worksheets": [
  {
   "cells": [
    {
     "cell_type": "code",
     "collapsed": false,
     "input": [
      "import numpy as np"
     ],
     "language": "python",
     "metadata": {},
     "outputs": [],
     "prompt_number": 1
    },
    {
     "cell_type": "code",
     "collapsed": false,
     "input": [
      "h = 15000.0 #height of cone in m\n",
      "OpenDeg = 1 #degree\n",
      "muonE = 1 #Gev"
     ],
     "language": "python",
     "metadata": {},
     "outputs": [],
     "prompt_number": 2
    },
    {
     "cell_type": "code",
     "collapsed": false,
     "input": [
      "def GetMuonSpeed(energy):\n",
      "    \"\"\"Given energy returns relativistic speed \"\"\"\n",
      "    MMu = .1056 #muon mass in GeV/c2\n",
      "    c = 3e8 #speed of light in m/s\n",
      "    v = np.sqrt(c**2 * (1 - (MMu/energy)**2)) #relativistic velocity\n",
      "    return v"
     ],
     "language": "python",
     "metadata": {},
     "outputs": [],
     "prompt_number": 3
    },
    {
     "cell_type": "code",
     "collapsed": false,
     "input": [
      "def GetArrivalTime(speed, distance):\n",
      "    \"\"\"Given speed and distance gives time of arrival\"\"\"\n",
      "    c=3e8\n",
      "    gamm = 1 / np.sqrt(1 - speed**2/c**2)\n",
      "    dt0 = distance / speed\n",
      "    dt = gamm * dt0\n",
      "    return dt"
     ],
     "language": "python",
     "metadata": {},
     "outputs": [],
     "prompt_number": 4
    },
    {
     "cell_type": "code",
     "collapsed": false,
     "input": [
      "def ConeCreation(detectorLocations, simulationSet, atmHeight, degreeOfCone):\n",
      "    \"\"\"Create circular based cone with incident height relative to origin\"\"\"\n",
      "    H = atmHeight\n",
      "    Th = degreeOfCone\n",
      "    retArr = np.array([])\n",
      "    i, j,t,f = 0,0,True,False\n",
      "    for i in range(len(simulationSet)):\n",
      "        VoC = np.array([simulationSet[i][0],simulationSet[i][1]])\n",
      "        #barr = np.array([],dtype=bool)\n",
      "        detArr = np.array([],dtype=double)\n",
      "        ToAArr = np.array([])\n",
      "        for j in range(15):\n",
      "            #print j\n",
      "            H = atmHeight - detectorLocations[j][2]\n",
      "            speed = GetMuonSpeed(simulationSet[i][3])\n",
      "            dist = H / cos(np.radians(Th))\n",
      "            ToA = GetArrivalTime(speed, dist)\n",
      "            ToAArr = np.append(ToAArr, ToA)\n",
      "            r = tan(np.radians(Th)) * H\n",
      "            rsqrd = (detectorLocations[j][0] - VoC[0]) **2 + (detectorLocations[j][1] - VoC[1])**2\n",
      "            if rsqrd > r**2:\n",
      "                #barr = np.append(barr, f)\n",
      "                ToAArr[j] = -1.0\n",
      "                ToAE = np.array([-1.0,-1.0])\n",
      "                detArr = np.append(detArr,ToAE)\n",
      "            else:\n",
      "                #barr = np.append(barr, t)\n",
      "                ToAE = np.array([ToA,simulationSet[i][3]])\n",
      "                detArr = np.append(detArr,ToAE)\n",
      "        ToAArr = GetToAdelta(ToAArr)\n",
      "        ToAi,detAri = 0,0\n",
      "        while detAri < len(detArr):\n",
      "            detArr[detAri] = ToAArr[ToAi]\n",
      "            ToAi += 1\n",
      "            detAri += 2\n",
      "            \n",
      "        if i == 0:\n",
      "            retArr = detArr\n",
      "            #retArr = barr\n",
      "        else:\n",
      "            retArr =  np.vstack((retArr, detArr))\n",
      "            #retArr = np.vstack((retArr,barr))\n",
      "    return retArr"
     ],
     "language": "python",
     "metadata": {},
     "outputs": [],
     "prompt_number": 5
    },
    {
     "cell_type": "code",
     "collapsed": false,
     "input": [
      "def BasicConeCreation(h,theta):\n",
      "    R = h* np.tan(np.radians(theta))\n",
      "    detlocs = np.array([])\n",
      "    det = np.array([0.0,0.0,0.0])\n",
      "    detlocs = np.append(detlocs,det)\n",
      "    det = np.array([R,0.0,0.0])\n",
      "    detlocs = np.vstack((detlocs,det))\n",
      "    det = np.array([-R,0.0,0.0])\n",
      "    detlocs = np.vstack((detlocs,det))\n",
      "    det = np.array([0.0,R,0.0])\n",
      "    detlocs = np.vstack((detlocs,det))\n",
      "    det = np.array([0.0,-R,0.0])\n",
      "    detlocs = np.vstack((detlocs,det))\n",
      "    det = np.array([R*np.cos(np.pi/4),R*np.sin(np.pi/4),0.0])\n",
      "    detlocs = np.vstack((detlocs,det))\n",
      "    det = np.array([-R*np.cos(np.pi/4),R*np.sin(np.pi/4),0.0])\n",
      "    detlocs = np.vstack((detlocs,det))\n",
      "    det = np.array([R*np.cos(np.pi/4),-R*np.sin(np.pi/4),0.0])\n",
      "    detlocs = np.vstack((detlocs,det))\n",
      "    det = np.array([-R*np.cos(np.pi/4),-R*np.sin(np.pi/4),0.0])\n",
      "    detlocs = np.vstack((detlocs,det))\n",
      "    return detlocs"
     ],
     "language": "python",
     "metadata": {},
     "outputs": [],
     "prompt_number": 6
    },
    {
     "cell_type": "code",
     "collapsed": false,
     "input": [
      "detlocs = BasicConeCreation(h,OpenDeg)"
     ],
     "language": "python",
     "metadata": {},
     "outputs": [],
     "prompt_number": 7
    },
    {
     "cell_type": "code",
     "collapsed": false,
     "input": [
      "print detlocs"
     ],
     "language": "python",
     "metadata": {},
     "outputs": [
      {
       "output_type": "stream",
       "stream": "stdout",
       "text": [
        "[[   0.            0.            0.        ]\n",
        " [ 261.82597392    0.            0.        ]\n",
        " [-261.82597392    0.            0.        ]\n",
        " [   0.          261.82597392    0.        ]\n",
        " [   0.         -261.82597392    0.        ]\n",
        " [ 185.13892165  185.13892165    0.        ]\n",
        " [-185.13892165  185.13892165    0.        ]\n",
        " [ 185.13892165 -185.13892165    0.        ]\n",
        " [-185.13892165 -185.13892165    0.        ]]\n"
       ]
      }
     ],
     "prompt_number": 8
    },
    {
     "cell_type": "code",
     "collapsed": false,
     "input": [
      "import matplotlib.pyplot as plt\n",
      "from mpl_toolkits.mplot3d import Axes3D\n",
      "fig = plt.figure()\n",
      "ax = fig.add_subplot(111, projection='3d')\n",
      "for dets in detlocs:\n",
      "    xs = dets[0]\n",
      "    ys = dets[1]\n",
      "    zs = dets[2]\n",
      "    ax.scatter(xs,ys,zs,c='r',marker='^')"
     ],
     "language": "python",
     "metadata": {},
     "outputs": [
      {
       "output_type": "display_data",
       "png": "[encoded data removed]"
      }
     ],
     "prompt_number": 9
    },
    {
     "cell_type": "code",
     "collapsed": false,
     "input": [
      "for det in detlocs:\n",
      "    plot(det[0],det[1],'.')\n",
      "    print det[0],det[1]"
     ],
     "language": "python",
     "metadata": {},
     "outputs": [
      {
       "output_type": "stream",
       "stream": "stdout",
       "text": [
        "0.0 0.0\n",
        "261.825973923 0.0\n",
        "-261.825973923 0.0\n",
        "0.0 261.825973923\n",
        "0.0 -261.825973923\n",
        "185.138921652 185.138921652\n",
        "-185.138921652 185.138921652\n",
        "185.138921652 -185.138921652\n",
        "-185.138921652 -185.138921652\n"
       ]
      },
      {
       "output_type": "display_data",
       "png": "[encoded data removed]"
      }
     ],
     "prompt_number": 10
    },
    {
     "cell_type": "code",
     "collapsed": false,
     "input": [
      "def getToAs(detlocs,h,muonspeed):\n",
      "    ToAs = np.array([])\n",
      "    c = 3 * 10**8 #m/s\n",
      "    Gamm = 1 / np.sqrt(1 - muonspeed**2 / c**2)\n",
      "    height = np.array([0.0,0.0,h])\n",
      "    D = np.sqrt((detlocs[0][0] - height[0])**2 + (detlocs[0][1] - height[1])**2 + (detlocs[0][2] - height[2])**2)\n",
      "    Dprime = D / Gamm\n",
      "    ToA = Dprime / muonspeed\n",
      "    ToAs = np.append(ToAs,ToA)\n",
      "    i = 1\n",
      "    while i < 9:\n",
      "        D = np.sqrt((detlocs[i][0] - height[0])**2 + (detlocs[i][1] - height[1])**2 + (detlocs[i][2] - height[2])**2)\n",
      "        Dprime = D / Gamm\n",
      "        ToA = Dprime / muonspeed\n",
      "        ToAs = np.append(ToAs,ToA)\n",
      "        i +=1\n",
      "    return ToAs"
     ],
     "language": "python",
     "metadata": {},
     "outputs": [],
     "prompt_number": 11
    },
    {
     "cell_type": "code",
     "collapsed": false,
     "input": [
      "print getToAs(detlocs,h,GetMuonSpeed(muonE))"
     ],
     "language": "python",
     "metadata": {},
     "outputs": [
      {
       "output_type": "stream",
       "stream": "stdout",
       "text": [
        "[  5.30968812e-06   5.31049693e-06   5.31049693e-06   5.31049693e-06\n",
        "   5.31049693e-06   5.31049693e-06   5.31049693e-06   5.31049693e-06\n",
        "   5.31049693e-06]\n"
       ]
      }
     ],
     "prompt_number": 12
    },
    {
     "cell_type": "code",
     "collapsed": false,
     "input": [
      "def GetToADelt(ToAs):\n",
      "    ToAd = np.array([])\n",
      "    for ToA in ToAs:\n",
      "        Td = ToA - ToAs[0]\n",
      "        ToAd = np.append(ToAd,Td)\n",
      "    return ToAd"
     ],
     "language": "python",
     "metadata": {},
     "outputs": [],
     "prompt_number": 13
    },
    {
     "cell_type": "code",
     "collapsed": false,
     "input": [
      "ToAs = getToAs(detlocs,h,GetMuonSpeed(muonE))\n",
      "ToAd = GetToADelt(ToAs)"
     ],
     "language": "python",
     "metadata": {},
     "outputs": [],
     "prompt_number": 14
    },
    {
     "cell_type": "code",
     "collapsed": false,
     "input": [
      "print ToAs\n",
      "print ToAd"
     ],
     "language": "python",
     "metadata": {},
     "outputs": [
      {
       "output_type": "stream",
       "stream": "stdout",
       "text": [
        "[  5.30968812e-06   5.31049693e-06   5.31049693e-06   5.31049693e-06\n",
        "   5.31049693e-06   5.31049693e-06   5.31049693e-06   5.31049693e-06\n",
        "   5.31049693e-06]\n",
        "[  0.00000000e+00   8.08814405e-10   8.08814405e-10   8.08814405e-10\n",
        "   8.08814405e-10   8.08814405e-10   8.08814405e-10   8.08814405e-10\n",
        "   8.08814405e-10]\n"
       ]
      }
     ],
     "prompt_number": 15
    },
    {
     "cell_type": "code",
     "collapsed": false,
     "input": [
      "def GetEquations(detlocs,ToAd,ToAs,muonspeed):\n",
      "    v = muonspeed\n",
      "    x1,y1,z1,t1 = detlocs[0][0],detlocs[0][1],detlocs[0][2],ToAs[0]\n",
      "    A = np.array([])\n",
      "    B = np.array([])\n",
      "    for m in range(1,len(detlocs)):\n",
      "        Am = 2*detlocs[m][0] / (v*ToAd[m]) - (2*x1) / (v*t1)\n",
      "        Bm = 2*detlocs[m][1] / (v*ToAd[m]) - (2*y1) / (v*t1)\n",
      "        Cm = 2*detlocs[m][2] / (v*ToAd[m]) - (2*z1) / (v*t1)\n",
      "        Dm = v*ToAd[m] - v*t1 -(detlocs[m][0]**2 + detlocs[m][1]**2 +detlocs[m][2]**2)/(v*ToAd[m]) + (x1**2 + y1**2 +z1**2)/(v*t1)\n",
      "        if m == 1:\n",
      "            A = np.append(A,Am)\n",
      "            A = np.append(A,Bm)\n",
      "            A = np.append(A,Cm)\n",
      "            A = np.append(A,Dm)\n",
      "        else:\n",
      "            B = np.append(B,Am)\n",
      "            B = np.append(B,Bm)\n",
      "            B = np.append(B,Cm)\n",
      "            B = np.append(B,Dm)\n",
      "            A = np.vstack((A,B))\n",
      "        B = np.array([])\n",
      "    (u,s,v) = np.linalg.svd(A)\n",
      "    return (u,s,v)\n",
      "    "
     ],
     "language": "python",
     "metadata": {},
     "outputs": [],
     "prompt_number": 16
    },
    {
     "cell_type": "code",
     "collapsed": false,
     "input": [
      "muonspeed = GetMuonSpeed(1)"
     ],
     "language": "python",
     "metadata": {},
     "outputs": [],
     "prompt_number": 17
    },
    {
     "cell_type": "code",
     "collapsed": false,
     "input": [
      "(u,s,v) = GetEquations(detlocs,ToAd,ToAs,muonspeed)"
     ],
     "language": "python",
     "metadata": {},
     "outputs": [],
     "prompt_number": 18
    },
    {
     "cell_type": "code",
     "collapsed": false,
     "input": [
      "print v"
     ],
     "language": "python",
     "metadata": {},
     "outputs": [
      {
       "output_type": "stream",
       "stream": "stdout",
       "text": [
        "[[  0.00000000e+00   3.86928856e-19   0.00000000e+00   1.00000000e+00]\n",
        " [ -1.00000000e+00  -0.00000000e+00  -0.00000000e+00   0.00000000e+00]\n",
        " [ -0.00000000e+00   1.00000000e+00   0.00000000e+00  -3.86928856e-19]\n",
        " [  0.00000000e+00   0.00000000e+00   1.00000000e+00   0.00000000e+00]]\n"
       ]
      }
     ],
     "prompt_number": 19
    },
    {
     "cell_type": "code",
     "collapsed": false,
     "input": [
      "w = v[3,:]\n",
      "w /= w[3] # Resulting position in ECEF"
     ],
     "language": "python",
     "metadata": {},
     "outputs": [],
     "prompt_number": 20
    },
    {
     "cell_type": "code",
     "collapsed": false,
     "input": [
      "print w"
     ],
     "language": "python",
     "metadata": {},
     "outputs": [
      {
       "output_type": "stream",
       "stream": "stdout",
       "text": [
        "[ nan  nan  inf  nan]\n"
       ]
      }
     ],
     "prompt_number": 21
    },
    {
     "cell_type": "code",
     "collapsed": false,
     "input": [],
     "language": "python",
     "metadata": {},
     "outputs": []
    }
   ],
   "metadata": {}
  }
 ]
}