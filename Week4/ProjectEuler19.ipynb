{
 "metadata": {
  "name": "ProjectEuler19"
 },
 "nbformat": 3,
 "nbformat_minor": 0,
 "worksheets": [
  {
   "cells": [
    {
     "cell_type": "code",
     "collapsed": false,
     "input": [
      "from math import *\n",
      "def getDay(year, month, day):\n",
      "    d = day\n",
      "    m = (month - 3) % 12 + 1\n",
      "    if m == 11 or m == 12: \n",
      "        Y = year -1\n",
      "    else:\n",
      "        Y = year\n",
      "    y = Y % 100\n",
      "    c = (Y - (Y % 100)) / 100\n",
      "    w = (d + floor(2.6 * m -.02) + y + floor(y/4) + floor(c/4) - 2*c) % 7\n",
      "    return int(w)\n",
      "    \n",
      "def monthsStartDay(day, startYear, endYear):\n",
      "    ttl = 0\n",
      "    for year in range(startYear, endYear + 1):\n",
      "        for month in range(1,13):\n",
      "            if getDay(year, month, 1) == day:\n",
      "                ttl += 1\n",
      "    return ttl\n",
      "\n",
      "print monthsStartDay(0, 1901, 2000)"
     ],
     "language": "python",
     "metadata": {},
     "outputs": [
      {
       "output_type": "stream",
       "stream": "stdout",
       "text": [
        "171\n"
       ]
      }
     ],
     "prompt_number": 8
    },
    {
     "cell_type": "code",
     "collapsed": false,
     "input": [],
     "language": "python",
     "metadata": {},
     "outputs": []
    }
   ],
   "metadata": {}
  }
 ]
}