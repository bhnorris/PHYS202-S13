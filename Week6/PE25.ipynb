{
 "metadata": {
  "name": "PE25"
 },
 "nbformat": 3,
 "nbformat_minor": 0,
 "worksheets": [
  {
   "cells": [
    {
     "cell_type": "code",
     "collapsed": false,
     "input": [
      "def getFibDigNum(Digit):\n",
      "    Fn2 = 1\n",
      "    Fn1 = 1\n",
      "    Fn = Fn1 + Fn2\n",
      "    n = 3\n",
      "    while (len(str(Fn))) < Digit:\n",
      "        Fn2 = Fn1\n",
      "        Fn1 = Fn\n",
      "        Fn = Fn1 + Fn2\n",
      "        n += 1\n",
      "    return n\n",
      "\n",
      "getFibDigNum(3)"
     ],
     "language": "python",
     "metadata": {},
     "outputs": [
      {
       "output_type": "pyout",
       "prompt_number": 2,
       "text": [
        "12"
       ]
      }
     ],
     "prompt_number": 2
    },
    {
     "cell_type": "code",
     "collapsed": false,
     "input": [
      "getFibDigNum(1000)"
     ],
     "language": "python",
     "metadata": {},
     "outputs": [
      {
       "output_type": "pyout",
       "prompt_number": 3,
       "text": [
        "4782"
       ]
      }
     ],
     "prompt_number": 3
    },
    {
     "cell_type": "code",
     "collapsed": false,
     "input": [],
     "language": "python",
     "metadata": {},
     "outputs": []
    }
   ],
   "metadata": {}
  }
 ]
}