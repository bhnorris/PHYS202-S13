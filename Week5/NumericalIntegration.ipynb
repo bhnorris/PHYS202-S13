{
 "metadata": {
  "name": "NumericalIntegration"
 },
 "nbformat": 3,
 "nbformat_minor": 0,
 "worksheets": [
  {
   "cells": [
    {
     "cell_type": "markdown",
     "metadata": {},
     "source": [
      "\\begin{equation}\n",
      "I(a,b) = h\\Biggl[\\frac{1}{2}f(a) + \\frac{1}{2}f(b) + \\sum^{N -1}_{k=1}f(a + kh)\\Biggr]\n",
      "\\end{equation}"
     ]
    },
    {
     "cell_type": "markdown",
     "metadata": {},
     "source": [
      "Example 1\n",
      "-\n",
      "Use the trapezoidal rule to calculate the integral of $x^4 - 2x +1\\space$  from x = 0 to x = 2"
     ]
    },
    {
     "cell_type": "code",
     "collapsed": false,
     "input": [
      "f = lambda x: x**4 - 2*x + 1"
     ],
     "language": "python",
     "metadata": {},
     "outputs": [],
     "prompt_number": 1
    },
    {
     "cell_type": "code",
     "collapsed": false,
     "input": [
      "N = 10\n",
      "a = 0.0\n",
      "b = 2.0\n",
      "h = (b-a)/N\n",
      "s = .5*f(a) + .5*f(b)\n",
      "for k in range(1,N):\n",
      "    s += f(a+k*h)\n",
      "print(h*s)"
     ],
     "language": "python",
     "metadata": {},
     "outputs": [
      {
       "output_type": "stream",
       "stream": "stdout",
       "text": [
        "4.50656\n"
       ]
      }
     ],
     "prompt_number": 3
    },
    {
     "cell_type": "markdown",
     "metadata": {},
     "source": [
      "$\\bigl[\\frac{1}{5}x^5 - x^2 + x\\bigr]^2_0 = 4.4$"
     ]
    },
    {
     "cell_type": "code",
     "collapsed": false,
     "input": [
      "N = 100\n",
      "a = 0.0\n",
      "b = 2.0\n",
      "h = (b-a)/N\n",
      "s = .5*f(a) + .5*f(b)\n",
      "for k in range(1,N):\n",
      "    s += f(a+k*h)\n",
      "print(h*s)"
     ],
     "language": "python",
     "metadata": {},
     "outputs": [
      {
       "output_type": "stream",
       "stream": "stdout",
       "text": [
        "4.401066656\n"
       ]
      }
     ],
     "prompt_number": 6
    },
    {
     "cell_type": "code",
     "collapsed": false,
     "input": [
      "N = 1000\n",
      "a = 0.0\n",
      "b = 2.0\n",
      "h = (b-a)/N\n",
      "s = .5*f(a) + .5*f(b)\n",
      "for k in range(1,N):\n",
      "    s += f(a+k*h)\n",
      "print(h*s)"
     ],
     "language": "python",
     "metadata": {},
     "outputs": [
      {
       "output_type": "stream",
       "stream": "stdout",
       "text": [
        "4.40001066667\n"
       ]
      }
     ],
     "prompt_number": 7
    },
    {
     "cell_type": "markdown",
     "metadata": {},
     "source": [
      "Exercise 2:\n",
      "-"
     ]
    },
    {
     "cell_type": "markdown",
     "metadata": {},
     "source": [
      "$\n",
      "I(a,b) = \\frac{1}{3} h \\Biggl[ f(a) + f(b) 4 \\sum^{N/2}_{k=1} f(a + (2k - 1)h) + 2 \\sum^{N/2 -1}_{k=1} f(a + 2kh)\\Biggr]\n",
      "$"
     ]
    },
    {
     "cell_type": "code",
     "collapsed": false,
     "input": [
      "f = lambda x: x**4 - 2*x + 1\n",
      "N = 10\n",
      "a = 0.0\n",
      "b = 2.0\n",
      "h = (b-a)/N\n",
      "s = f(a) + f(b)\n",
      "s1 = 0\n",
      "s2 = 0\n",
      "N1 = N/2\n",
      "N2 = N/2 - 1\n",
      "for k in range(1,N1+1):\n",
      "    s1 += f(a+(2*k-1)*h)\n",
      "for i in range(1,N2+1):\n",
      "    s2 += f(a + 2*i*h)\n",
      "total = s + 4*s1 + 2*s2\n",
      "print total\n",
      "total = (h * total)/3.\n",
      "print total"
     ],
     "language": "python",
     "metadata": {},
     "outputs": [
      {
       "output_type": "stream",
       "stream": "stdout",
       "text": [
        "66.0064\n",
        "4.40042666667\n"
       ]
      }
     ],
     "prompt_number": 31
    },
    {
     "cell_type": "code",
     "collapsed": false,
     "input": [
      "print abs((total-4.4)/4.4)"
     ],
     "language": "python",
     "metadata": {},
     "outputs": [
      {
       "output_type": "stream",
       "stream": "stdout",
       "text": [
        "9.69696969699e-05\n"
       ]
      }
     ],
     "prompt_number": 32
    },
    {
     "cell_type": "code",
     "collapsed": false,
     "input": [
      "f = lambda x: x**4 - 2*x + 1\n",
      "N = 100\n",
      "a = 0.0\n",
      "b = 2.0\n",
      "h = (b-a)/N\n",
      "s = f(a) + f(b)\n",
      "s1 = 0\n",
      "s2 = 0\n",
      "N1 = N/2\n",
      "N2 = N/2 - 1\n",
      "for k in range(1,N1+1):\n",
      "    s1 += f(a+(2*k-1)*h)\n",
      "for i in range(1,N2+1):\n",
      "    s2 += f(a + 2*i*h)\n",
      "total = s + 4*s1 + 2*s2\n",
      "print total\n",
      "total = (h * total)/3.\n",
      "print total\n",
      "print abs((total-4.4)/4.4)"
     ],
     "language": "python",
     "metadata": {},
     "outputs": [
      {
       "output_type": "stream",
       "stream": "stdout",
       "text": [
        "660.0000064\n",
        "4.40000004267\n",
        "9.69696969187e-09\n"
       ]
      }
     ],
     "prompt_number": 33
    },
    {
     "cell_type": "code",
     "collapsed": false,
     "input": [
      "f = lambda x: x**4 - 2*x + 1\n",
      "N = 1000\n",
      "a = 0.0\n",
      "b = 2.0\n",
      "h = (b-a)/N\n",
      "s = f(a) + f(b)\n",
      "s1 = 0\n",
      "s2 = 0\n",
      "N1 = N/2\n",
      "N2 = N/2 - 1\n",
      "for k in range(1,N1+1):\n",
      "    s1 += f(a+(2*k-1)*h)\n",
      "for i in range(1,N2+1):\n",
      "    s2 += f(a + 2*i*h)\n",
      "total = s + 4*s1 + 2*s2\n",
      "print total\n",
      "total = (h * total)/3.\n",
      "print total\n",
      "print abs((total-4.4)/4.4)"
     ],
     "language": "python",
     "metadata": {},
     "outputs": [
      {
       "output_type": "stream",
       "stream": "stdout",
       "text": [
        "6600.00000001\n",
        "4.4\n",
        "9.69729347327e-13\n"
       ]
      }
     ],
     "prompt_number": 34
    },
    {
     "cell_type": "code",
     "collapsed": false,
     "input": [],
     "language": "python",
     "metadata": {},
     "outputs": []
    }
   ],
   "metadata": {}
  }
 ]
}