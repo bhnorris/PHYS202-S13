{
 "metadata": {
  "name": "ProjectEuler6"
 },
 "nbformat": 3,
 "nbformat_minor": 0,
 "worksheets": [
  {
   "cells": [
    {
     "cell_type": "markdown",
     "metadata": {},
     "source": [
      "Sum square difference\n",
      "=====================\n",
      "Problem 6\n",
      "---------\n",
      "The sum of the squares of the first ten natural numbers is,\n",
      "\n",
      "$1^2$ + $2^2$ + ... + $10^2$ = 385\n",
      "\n",
      "The square of the sum of the first ten natural numbers is,\n",
      "\n",
      "$(1 + 2 + ... + 10)^2$  = $55^2$ = 3025\n",
      "\n",
      "Hence the difference between the sum of the squares of the first ten natural numbers and the square of the sum is 3025 - 385 = 2640.\n",
      "\n",
      "Find the difference between the sum of the squares of the first one hundred natural numbers and the square of the sum."
     ]
    },
    {
     "cell_type": "code",
     "collapsed": false,
     "input": [
      "i = 0\n",
      "sumofsquares = 0\n",
      "squareofsum = 0\n",
      "n = 0\n",
      "count = 101\n",
      "retval = 0\n",
      "for i in range(count):\n",
      "    sumofsquares = sumofsquares + i**2\n",
      "for n in range(count):\n",
      "    squareofsum = squareofsum + n\n",
      "squareofsum = squareofsum**2\n",
      "print str(squareofsum) + \" - \" + str(sumofsquares)\n",
      "retval = squareofsum - sumofsquares\n",
      "print retval\n"
     ],
     "language": "python",
     "metadata": {},
     "outputs": [
      {
       "output_type": "stream",
       "stream": "stdout",
       "text": [
        "25502500 - 338350\n",
        "25164150\n"
       ]
      }
     ],
     "prompt_number": 5
    },
    {
     "cell_type": "code",
     "collapsed": false,
     "input": [],
     "language": "python",
     "metadata": {},
     "outputs": []
    }
   ],
   "metadata": {}
  }
 ]
}